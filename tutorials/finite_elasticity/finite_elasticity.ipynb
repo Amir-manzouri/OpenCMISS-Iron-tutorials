{
 "cells": [
  {
   "cell_type": "markdown",
   "metadata": {},
   "source": [
    "# Finite elasticity\n",
    "\n",
    "## Introduction\n",
    "\n",
    "This tutorial demonstrates how to setup and solve a nonlinear continuum mechanics problem using OpenCMISS-Iron in python. For the purpose of this tutorial, we will be solving a 3D finite elasticity problem. \n",
    "\n",
    "Provided that you have already installed the OpenCMISS library, the code excerpts in this section can be run interactively by entering it directly into the Python interpreter, which can be started by running python or ipython in a terminal. The code shown here can also be downloaded as a jupyter notebook in the following [link](https://github.com/OpenCMISS-Examples/basics_tutorial/blob/master/src/python/mechanics_tutorial.ipynb).\n",
    "\n",
    "## Intended learning outcomes:\n",
    "At the end of this tutorial you will:\n",
    "* Know the steps involved in setting up and solving a nonlinear finite elasticity simulation with OpenCMISS-Iron.\n",
    "* Know how different mechanical loads can be applied to a geometry.\n",
    "* Know how information about the deformation can be extracted for analysis. \n",
    "\n",
    "## The finite elasticity, stress equilibrium equation. \n",
    "In this example we are solving the stress equilibrium equation for nonlinear finite elasticity. The equations are a member of the elasticity field equations set class and the Finite Elasticity type. The stress equilibrium equation represents the principle of linear momentum as follows:\n",
    "\n",
    "$$\\displaystyle \\nabla \\sigma + \\rho \\mathbf{b}-\\rho \\mathbf {a}=0. \\qquad \\text{in} \\qquad  \\Omega \\\\$$\n",
    "\n",
    "where $\\sigma$ is the Cauchy stress tensor, $\\mathbf{b}$ is the body force vector and $\\mathbf{a}$ is the vector representing the acceleration due to any unbalanced forces. The boundary equations for the stress equilibrium equation are partitioned into the Dirichlet boundary conditions representing a fixed displacement $u_d$ over the boundary $\\Gamma_d$, and the Neumann boundary conditions representing the traction forces $\\mathbf{t}$ applied on the boundary $\\Gamma_t$ along the normal $\\mathbf{n}$ as follows:\n",
    "\n",
    "$$\n",
    "\\begin{aligned}\n",
    "\\displaystyle u &= u_d \\quad &\\text{on} \\quad \\Gamma_d \\\\\n",
    "\\displaystyle \\sigma^T \\mathbf{n} &= \\mathbf{t} \\quad &\\text{on} \\quad \\Gamma_t \n",
    "\\end{aligned}\n",
    "$$\n",
    "\n",
    "In this example we will solve the stress equilibrium equation for an incompressible material, which we shall perform using **the incompressibility constraint**: \n",
    "\n",
    "$$\\displaystyle (I_3-3) = 0$$\n",
    "\n",
    "\n",
    "\n",
    "## The problem being solved in this tutorial. \n",
    "This tutorial has been set up to solve the deformation of an isotropic, unit cube and to analyse large deformation kinematics in the cube. \n",
    "\n",
    "The problem we are about to solve includes 4 dependent variables. The first three variables represent each of the 3D coordinates $(x,y,z)$ of the mesh nodes in the deformed state. The incompressibility constraint is satisfied using lagrange multipliers, which are represented as a scalar variable, $p$. This variable is often referred to as the **hydrostatic pressure**.\n",
    "\n",
    "Another important set of equations that need to be included when solving a mechanics problem are the stress-strain relationships or **constitutive relationships**. There are a set of constitutive equations that have already been included within the OpenCMISS-Iron library as [EquationSet subtypes](http://cmiss.bioeng.auckland.ac.nz/OpenCMISS/doc/user/group___o_p_e_n_c_m_i_s_s___equations_set_subtypes.html). We will demonstrate how these constants are used to incorporate the constitutive equation in the simulation below when setting up the equation set.\n",
    "\n",
    "We will see in this tutorial how five different types of mechanical loads can be applied as follows:  \n",
    "\n",
    "* Model 1 (Uniaxial extension of a unit cube)\n",
    "* Model 2 (Equibiaxial extension of a unit cube)\n",
    "* Model 3 (Simple shear of a unit cube)\n",
    "* Model 4 (Shear of a unit cube)\n",
    "* Model 5 (Extension and shear of a unit cube)\n"
   ]
  },
  {
   "cell_type": "markdown",
   "metadata": {},
   "source": [
    "## Loading the OpenCMISS-Iron library\n",
    "In order to use OpenCMISS we have to first import the opencmiss.iron module from the opencmiss package."
   ]
  },
  {
   "cell_type": "code",
   "execution_count": 1,
   "metadata": {},
   "outputs": [],
   "source": [
    "import numpy\n",
    "\n",
    "# Intialise OpenCMISS\n",
    "from opencmiss.iron import iron"
   ]
  },
  {
   "cell_type": "markdown",
   "metadata": {},
   "source": [
    "## Set up parameters\n",
    "The following set of variables are used in the tutorial and are defined here. There is a common practice among expert users to set these variables up at the start because we can then change these easily and re-run the rest of the code if we want to. \n",
    "\n",
    "Of note is **UsePressureBasis**. This is a boolean variable that we can set to true to include the incompressibility constraint or set to false if the material we want to represent in the model is nearly incompressible or compressible. \n",
    "\n",
    "**numberOfLoadIncrements** sets the number of load steps to be taken to solve the nonlinear mechanics problem. If you have not solved nonlinear mechanics problems before now would be a good time to get familiar with that before you deep dive into running nonlinear mechanics simulations. Here, we briefly explain the concept. \n",
    "\n",
    "**InterpolationType** is an integer variable that can be changed to choose one of the nine basis interpolation types defined in OpenCMISS-Iron [Basis Interpolation Specifications Constants](http://opencmiss.org/documentation/apidoc/iron/latest/python/classiron_1_1_basis_interpolation_specifications.html)\n",
    "\n",
    "The weak form finite element matrix equations for the stress equilibrium equations above have been implemented in the OpenCMISS-Iron libraries as an elasticity equation subtype. Numerical treatment of the equations will show that the equations are nonlinear and, specifically, the determination of the deformed configuration coordinates turn out to be like a root finding exercise. We need to find the deformed coordinates $\\mathbf{x}$ such that $f(x)=0$. These equations are therefore solved using a nonlinear iterative solver, **Newton Raphson technique** to be exact. Nonlinear solvers require an initial guess at the root of the equation and if we are far away from the actual solution then the solvers can diverge and give spurious $x$ values. Therefore, in most simulations it is best to split an entire mechanical load into lots of smaller loads. This is what numberOfLoadIncrements allows us to do. You will see it come to use in the control loop section of the tutorial below. "
   ]
  },
  {
   "cell_type": "code",
   "execution_count": 2,
   "metadata": {},
   "outputs": [],
   "source": [
    "# Set constants\n",
    "X, Y, Z = (1, 2, 3)\n",
    "\n",
    "#set model boundary condition setting to be used\n",
    "model = 1\n",
    "# Set dimensions of the cube\n",
    "width = 1.0\n",
    "length = 1.0\n",
    "height = 1.0\n",
    "\n",
    "UsePressureBasis = False\n",
    "NumberOfGaussXi = 2\n",
    "InterpolationType = 1\n",
    "numberOfXi = 3\n",
    "\n",
    "\n",
    "numberOfLoadIncrements = 1\n",
    "numberGlobalXElements = 1\n",
    "numberGlobalYElements = 1\n",
    "numberGlobalZElements = 1\n"
   ]
  },
  {
   "cell_type": "markdown",
   "metadata": {},
   "source": [
    "Assuming OpenCMISS has been correctly built with the Python bindings by\n",
    "following the instructions in the programmer documentation, we can now access\n",
    "all the OpenCMISS functions, classes and constants under the iron namespace.\n",
    "\n",
    "The next section describes how we can interact with the OpenCMISS-Iron library\n",
    "through an object-oriented API.\n",
    "\n",
    "## Step by step guide\n",
    "\n",
    "### 1. Creating a coordinate system\n",
    "\n",
    "First we construct a coordinate system that will be used to describe the geometry in our problem. The 3D geometry will exist in a 3D space, so we need a 3D coordinate system."
   ]
  },
  {
   "cell_type": "code",
   "execution_count": 3,
   "metadata": {},
   "outputs": [],
   "source": [
    "# Create a 3D rectangular cartesian coordinate system\n",
    "coordinateSystemUserNumber = 1\n",
    "coordinateSystem = iron.CoordinateSystem()\n",
    "coordinateSystem.CreateStart(coordinateSystemUserNumber)\n",
    "coordinateSystem.DimensionSet(3)\n",
    "coordinateSystem.CreateFinish()"
   ]
  },
  {
   "cell_type": "markdown",
   "metadata": {},
   "source": [
    "### 2. Creating basis functions\n",
    "\n",
    "The finite element description of our fields requires a basis function to interpolate field values over elements. In the cell below, we have set up the code such that you can choose from a number of basis function types for this problem. These have been defined as OpenCMISS-Iron [Basis Interpolation Specifications Constants](http://opencmiss.org/documentation/apidoc/iron/latest/python/classiron_1_1_basis_interpolation_specifications.html). The **InterpolationType** variable that was set at the top of the tutorial will be used to determine which basis interpolation will be used in this simulation.\n",
    "\n",
    "We have also set up a second **pressureBasis** function for the hydrostatic pressure. In mechanics theory it is well understood that the interpolation scheme for the pressure basis should be one order lower than the geometric basis. **UsePressureBasis**, which is set at the top of the tutorial determines whether the incompressibility constraint will be used in the simulation or not. If the pressure basis is not defined then the simulation is set up for either nearly incompressible constitutive equations or for constitutive equations that describe the mechanical properties of compressible solid materials. \n",
    "\n"
   ]
  },
  {
   "cell_type": "code",
   "execution_count": 4,
   "metadata": {},
   "outputs": [],
   "source": [
    "# Define basis\n",
    "basisUserNumber = 1\n",
    "pressureBasisUserNumber = 2\n",
    "\n",
    "basis = iron.Basis()\n",
    "basis.CreateStart(basisUserNumber)\n",
    "if InterpolationType in (1,2,3,4):\n",
    "    basis.type = iron.BasisTypes.LAGRANGE_HERMITE_TP\n",
    "elif InterpolationType in (7,8,9):\n",
    "    basis.type = iron.BasisTypes.SIMPLEX\n",
    "basis.numberOfXi = numberOfXi\n",
    "basis.interpolationXi = (\n",
    "    [iron.BasisInterpolationSpecifications.LINEAR_LAGRANGE]*numberOfXi)\n",
    "if(NumberOfGaussXi>0):\n",
    "    basis.quadratureNumberOfGaussXi = [NumberOfGaussXi]*numberOfXi\n",
    "basis.CreateFinish()\n",
    "\n",
    "if(UsePressureBasis):\n",
    "    # Define pressure basis\n",
    "    pressureBasis = iron.Basis()\n",
    "    pressureBasis.CreateStart(pressureBasisUserNumber)\n",
    "    if InterpolationType in (1,2,3,4):\n",
    "        pressureBasis.type = iron.BasisTypes.LAGRANGE_HERMITE_TP\n",
    "    elif InterpolationType in (7,8,9):\n",
    "        pressureBasis.type = iron.BasisTypes.SIMPLEX\n",
    "    pressureBasis.numberOfXi = numberOfXi\n",
    "    pressureBasis.interpolationXi = (\n",
    "        [iron.BasisInterpolationSpecifications.LINEAR_LAGRANGE]*numberOfXi)\n",
    "    if(NumberOfGaussXi>0):\n",
    "        pressureBasis.quadratureNumberOfGaussXi = [NumberOfGaussXi]*numberOfXi\n",
    "    pressureBasis.CreateFinish()\n"
   ]
  },
  {
   "cell_type": "markdown",
   "metadata": {},
   "source": [
    "### 3. Creating a region\n",
    "\n",
    "Next we create a region that our fields will be defined on and tell it to use the 3D coordinate system we created previously. "
   ]
  },
  {
   "cell_type": "code",
   "execution_count": 5,
   "metadata": {},
   "outputs": [],
   "source": [
    "# Create a region and assign the coordinate system to the region\n",
    "regionUserNumber = 1\n",
    "region = iron.Region()\n",
    "region.CreateStart(regionUserNumber,iron.WorldRegion)\n",
    "region.LabelSet(\"Region\")\n",
    "region.coordinateSystem = coordinateSystem\n",
    "region.CreateFinish()"
   ]
  },
  {
   "cell_type": "markdown",
   "metadata": {},
   "source": [
    "### 4. Setting up a simple cuboid mesh\n",
    "\n",
    "In this example we will use the GeneratedMesh class capabilities of OpenCMISS to create a 3D geometric mesh on which to solve the mechanics problem. We will create a regular mesh of size width x height y and depth z and divide the mesh into `numberGlobalXElements` in the X direction, `numberGlobalYElements` in the Y direction and  `numberGlobalZElements` in the Z direction. We will then tell it to use the basis we created previously:"
   ]
  },
  {
   "cell_type": "code",
   "execution_count": 6,
   "metadata": {},
   "outputs": [],
   "source": [
    "\n",
    "# Start the creation of a generated mesh in the region\n",
    "generatedMeshUserNumber = 1\n",
    "generatedMesh = iron.GeneratedMesh()\n",
    "generatedMesh.CreateStart(generatedMeshUserNumber,region)\n",
    "generatedMesh.type = iron.GeneratedMeshTypes.REGULAR\n",
    "if(UsePressureBasis):\n",
    "    generatedMesh.basis = [basis,pressureBasis]\n",
    "else:\n",
    "    generatedMesh.basis = [basis]\n",
    "    generatedMesh.extent = [width,length,height]\n",
    "    generatedMesh.numberOfElements = (\n",
    "        [numberGlobalXElements,numberGlobalYElements,numberGlobalZElements])\n",
    "# Finish the creation of a generated mesh in the region\n",
    "meshUserNumber = 1\n",
    "mesh = iron.Mesh()\n",
    "generatedMesh.CreateFinish(meshUserNumber,mesh)\n"
   ]
  },
  {
   "cell_type": "markdown",
   "metadata": {},
   "source": [
    "### 5. Decomposing the mesh\n",
    "Once the mesh has been created we can decompose it into a number of domains in order to allow for parallelism. We choose the options to let OpenCMISS calculate the best way to break up the mesh. We also set the number of domains to be equal to the number of computational nodes this example is running on. Note that if MPI infrastructure is not used, only single domain will be created. Look for our parallelisation example for an illustration of how to execute simulations using parallel processing techniques. "
   ]
  },
  {
   "cell_type": "code",
   "execution_count": 7,
   "metadata": {},
   "outputs": [],
   "source": [
    "# Get the number of computational nodes and this computational node number\n",
    "numberOfComputationalNodes = iron.ComputationalNumberOfNodesGet()\n",
    "# computationalNodeNumber = iron.ComputationalNodeNumberGet()\n",
    "\n",
    "# Create a decomposition for the mesh\n",
    "decompositionUserNumber = 1\n",
    "decomposition = iron.Decomposition()\n",
    "decomposition.CreateStart(decompositionUserNumber,mesh)\n",
    "decomposition.type = iron.DecompositionTypes.CALCULATED\n",
    "decomposition.numberOfDomains = numberOfComputationalNodes\n",
    "decomposition.CreateFinish()"
   ]
  },
  {
   "cell_type": "markdown",
   "metadata": {},
   "source": [
    "### 6. Creating a geometric field\n",
    "Now that the mesh has been decomposed we are in a position to create fields. The first field we need to create is the geometric field. Here we create a field and partition the field to different computational nodes using the mesh decomposition that we have just created. Once we have finished creating the field we can change the field DOFs to give us our geometry. Since the mesh has been generated we can use the generated mesh object to calculate the geometric parameters of the regular mesh."
   ]
  },
  {
   "cell_type": "code",
   "execution_count": 8,
   "metadata": {},
   "outputs": [],
   "source": [
    "# Create a field for the geometry\n",
    "geometricFieldUserNumber = 1\n",
    "\n",
    "geometricField = iron.Field()\n",
    "geometricField.CreateStart(geometricFieldUserNumber,region)\n",
    "geometricField.MeshDecompositionSet(decomposition)\n",
    "geometricField.TypeSet(iron.FieldTypes.GEOMETRIC)\n",
    "geometricField.VariableLabelSet(iron.FieldVariableTypes.U,\"Geometry\")\n",
    "geometricField.ComponentMeshComponentSet(iron.FieldVariableTypes.U,1,1)\n",
    "geometricField.ComponentMeshComponentSet(iron.FieldVariableTypes.U,2,1)\n",
    "geometricField.ComponentMeshComponentSet(iron.FieldVariableTypes.U,3,1)\n",
    "if InterpolationType == 4:\n",
    "    geometricField.fieldScalingType = iron.FieldScalingTypes.ARITHMETIC_MEAN\n",
    "geometricField.CreateFinish()\n",
    "\n",
    "# Update the geometric field parameters from generated mesh\n",
    "generatedMesh.GeometricParametersCalculate(geometricField)"
   ]
  },
  {
   "cell_type": "markdown",
   "metadata": {},
   "source": [
    "### 7. Creating a fibre field.\n",
    "\n",
    "The mechanical behaviour of tissues and solids is fundamentally dependent on the microstructural organisation of the constituents that make up the tissue. With OpenCMISS-Iron one can define the anisotropic microstructural organisation using a 'fibre field'. The term **fibre** is a legacy terminology referring to the microstructural organisation of muscle fibres in the heart. Basically, the fibre field can be used to define local changes in the orientation of the microstructure of the tissue. This organisation is then used to create tensors that map important mechanics variables like stress and strain between the reference, deformed and microstructure coordinate systems. "
   ]
  },
  {
   "cell_type": "code",
   "execution_count": 9,
   "metadata": {},
   "outputs": [],
   "source": [
    "# Create a fibre field and attach it to the geometric field\n",
    "fibreFieldUserNumber = 2\n",
    "\n",
    "fibreField = iron.Field()\n",
    "fibreField.CreateStart(fibreFieldUserNumber,region)\n",
    "fibreField.TypeSet(iron.FieldTypes.FIBRE)\n",
    "fibreField.MeshDecompositionSet(decomposition)\n",
    "fibreField.GeometricFieldSet(geometricField)\n",
    "fibreField.VariableLabelSet(iron.FieldVariableTypes.U,\"Fibre\")\n",
    "if InterpolationType == 4:\n",
    "    fibreField.fieldScalingType = iron.FieldScalingTypes.ARITHMETIC_MEAN #this is something specific to cubic-Hermites. \n",
    "fibreField.CreateFinish()"
   ]
  },
  {
   "cell_type": "markdown",
   "metadata": {},
   "source": [
    "### Before moving to equations, for later use\n",
    "Before setting up the equations set and equations below is a code snippet that we will use later to store the deformed configuration of the microstructural fibre field after the mechanics simulation is complete. "
   ]
  },
  {
   "cell_type": "code",
   "execution_count": 10,
   "metadata": {},
   "outputs": [],
   "source": [
    "# Create a deformed geometry field, as Cmgui/Zinc doesn't like displaying\n",
    "# deformed fibres from the dependent field because it isn't a geometric field.\n",
    "dependentFieldUserNumber = 4\n",
    "deformedFieldUserNumber = 7\n",
    "deformedField = iron.Field()\n",
    "deformedField.CreateStart(deformedFieldUserNumber, region)\n",
    "deformedField.MeshDecompositionSet(decomposition)\n",
    "deformedField.TypeSet(iron.FieldTypes.GEOMETRIC)\n",
    "deformedField.VariableLabelSet(iron.FieldVariableTypes.U, \"DeformedGeometry\")\n",
    "for component in [1, 2, 3]:\n",
    "    deformedField.ComponentMeshComponentSet(\n",
    "            iron.FieldVariableTypes.U, component, 1)\n",
    "if InterpolationType == 4:\n",
    "    deformedField.ScalingTypeSet(iron.FieldScalingTypes.ARITHMETIC_MEAN)\n",
    "deformedField.CreateFinish()"
   ]
  },
  {
   "cell_type": "markdown",
   "metadata": {},
   "source": [
    "### 8. Create a pressure field.\n",
    "In the next code snippet we create a pressure field. Remember that UsePressureBasis can be set to true or false to switch between compressible and incompressible elasticity. Here we just create the pressure field and let the logical switch variable determine whether the incompressibility equation is included in the problem set up or not. This pressure field stores the hydrostatic pressure variable value for the simulation. \n",
    "\n",
    "One can either make the hydrostatic pressure be only variable across elements as defined by the opencmiss-iron constant **iron.FieldInterpolationTypes.ELEMENT_BASED** below or variable across the nodes by using the OpenCMISS-Iron constant **iron.FieldInterpolationTypes.NODE_BASED**."
   ]
  },
  {
   "cell_type": "code",
   "execution_count": 11,
   "metadata": {},
   "outputs": [],
   "source": [
    "pressureFieldUserNumber = 8\n",
    "\n",
    "pressureField = iron.Field()\n",
    "pressureField.CreateStart(pressureFieldUserNumber, region)\n",
    "pressureField.MeshDecompositionSet(decomposition)\n",
    "pressureField.VariableLabelSet(iron.FieldVariableTypes.U, \"Pressure\")\n",
    "pressureField.ComponentMeshComponentSet(iron.FieldVariableTypes.U, 1, 1)\n",
    "pressureField.ComponentInterpolationSet(iron.FieldVariableTypes.U,1,\n",
    "                                            iron.FieldInterpolationTypes.ELEMENT_BASED)\n",
    "pressureField.NumberOfComponentsSet(iron.FieldVariableTypes.U, 1)\n",
    "pressureField.CreateFinish()\n"
   ]
  },
  {
   "cell_type": "markdown",
   "metadata": {},
   "source": [
    "### 9. Defining a equation set field, including the choice of constitutive equation.\n",
    "We also need to create a new field called the equation set field.\n",
    "\n",
    "Note the key constants used to define the equation set: \n",
    "**ProblemClasses.ELASTICITY** defines that the equation set is of the elasticity class.\n",
    "**ProblemTypes.FINITE_ELASTICITY** defines that the finite elasticity equations set will be used.\n",
    "**EquationsSetSubTypes.MOONEY_RIVLIN** defines that the mooney rivlin constitutive equation that has been defined within the OpenCMISS-Iron library should be used.\n",
    "\n",
    "You can find more constitutive equation constants in the OpenCMISS [Equations Set Subtypes Constants](http://opencmiss.org/documentation/apidoc/iron/latest/python/classiron_1_1_equations_set_subtypes.html).\n"
   ]
  },
  {
   "cell_type": "code",
   "execution_count": 12,
   "metadata": {},
   "outputs": [],
   "source": [
    "# Create the equations_set\n",
    "\n",
    "equationsSetUserNumber = 1\n",
    "equationsSetFieldUserNumber = 5\n",
    "\n",
    "equationsSetField = iron.Field()\n",
    "equationsSet = iron.EquationsSet()\n",
    "\n",
    "problemSpecification = [iron.ProblemClasses.ELASTICITY,\n",
    "    iron.ProblemTypes.FINITE_ELASTICITY,\n",
    "    iron.EquationsSetSubtypes.MOONEY_RIVLIN]\n",
    "equationsSet.CreateStart(equationsSetUserNumber,region,fibreField,problemSpecification,\n",
    "    equationsSetFieldUserNumber, equationsSetField)\n",
    "equationsSet.CreateFinish()"
   ]
  },
  {
   "cell_type": "markdown",
   "metadata": {},
   "source": [
    "### 10. Defining the dependent field\n",
    "For the mechanics equation we need a dependent field (our solution) to describe our dependent variables. Note that the dependent field has been pre-defined in the OpenCMISS-Iron library to contain four components when the finite elasticity, mooney rivlin subtype equations set is used. The first three components store the deformed coordinates and the fourth stores the pressure. In the code snippet below the fourth variable is set to only be variable across elements for all basis interpolation types except for cubic Hermites. In this case the interpolation scheme for the pressure field is node based. \n",
    "\n"
   ]
  },
  {
   "cell_type": "code",
   "execution_count": 13,
   "metadata": {},
   "outputs": [],
   "source": [
    "# Create the dependent field\n",
    "dependentField = iron.Field()\n",
    "equationsSet.DependentCreateStart(dependentFieldUserNumber,dependentField)\n",
    "dependentField.VariableLabelSet(iron.FieldVariableTypes.U,\"Dependent\")\n",
    "dependentField.ComponentInterpolationSet(iron.FieldVariableTypes.U,4,iron.FieldInterpolationTypes.ELEMENT_BASED)\n",
    "dependentField.ComponentInterpolationSet(iron.FieldVariableTypes.DELUDELN,4,iron.FieldInterpolationTypes.ELEMENT_BASED)\n",
    "if(UsePressureBasis):\n",
    "  # Set the pressure to be nodally based and use the second mesh component\n",
    "  if InterpolationType == 4:\n",
    "    dependentField.ComponentInterpolationSet(iron.FieldVariableTypes.U,4,iron.FieldInterpolationTypes.NODE_BASED)\n",
    "    dependentField.ComponentInterpolationSet(iron.FieldVariableTypes.DELUDELN,4,iron.FieldInterpolationTypes.NODE_BASED)\n",
    "    dependentField.ComponentMeshComponentSet(iron.FieldVariableTypes.U,4,2)\n",
    "    dependentField.ComponentMeshComponentSet(iron.FieldVariableTypes.DELUDELN,4,2)\n",
    "    dependentField.fieldScalingType = iron.FieldScalingTypes.ARITHMETIC_MEAN\n",
    "equationsSet.DependentCreateFinish()"
   ]
  },
  {
   "cell_type": "markdown",
   "metadata": {},
   "source": [
    "### 11. Create the material field to store the constitutive equation parameter values. \n",
    "Below we set up a field called a material field, which will store the constitutive equation parameters that have been defined for the Mooney Rivlin equation subtype in OpenCMISS-Iron. This field can be set to have the same values throughout the mesh to represent a homogeneous material. If you want to describe heterogeneous materials you can set the values of these parameters differently across the mesh. This is not shown here but we'll give you a little example of this at the end of this tutorial. Below, the ```ComponentValuesInitialiseDP``` function sets all the nodal values to be the same: 1.0 for c10 and 0.2 for c01."
   ]
  },
  {
   "cell_type": "code",
   "execution_count": 14,
   "metadata": {},
   "outputs": [],
   "source": [
    "# Create the material field\n",
    "materialFieldUserNumber = 3\n",
    "\n",
    "materialField = iron.Field()\n",
    "equationsSet.MaterialsCreateStart(materialFieldUserNumber,materialField)\n",
    "materialField.VariableLabelSet(iron.FieldVariableTypes.U,\"Material\")\n",
    "equationsSet.MaterialsCreateFinish()\n",
    "\n",
    "# Set Mooney-Rivlin constants c10 and c01 respectively.\n",
    "materialField.ComponentValuesInitialiseDP(\n",
    "    iron.FieldVariableTypes.U,iron.FieldParameterSetTypes.VALUES,1,1.0)\n",
    "materialField.ComponentValuesInitialiseDP(\n",
    "    iron.FieldVariableTypes.U,iron.FieldParameterSetTypes.VALUES,2,0.2)\n"
   ]
  },
  {
   "cell_type": "markdown",
   "metadata": {},
   "source": [
    "### 12. Create the equations from the equations set and material parameters.\n",
    "\n",
    "Once the equations set is defined, we create the equations that use our fields to construct equations matrices and vectors."
   ]
  },
  {
   "cell_type": "code",
   "execution_count": 15,
   "metadata": {},
   "outputs": [],
   "source": [
    "# Create equations\n",
    "equations = iron.Equations()\n",
    "equationsSet.EquationsCreateStart(equations)\n",
    "equations.sparsityType = iron.EquationsSparsityTypes.SPARSE\n",
    "equations.outputType = iron.EquationsOutputTypes.NONE\n",
    "equationsSet.EquationsCreateFinish()\n"
   ]
  },
  {
   "cell_type": "markdown",
   "metadata": {},
   "source": [
    "### 13. Initialise the dependent field.\n",
    "The dependent field needs to be initialised before the simulation is run. To this end, we copy the values of the coordinates from the geometric field into the dependent field in the below code snippet. The hydroastatic pressure field is set to 0.0."
   ]
  },
  {
   "cell_type": "code",
   "execution_count": 16,
   "metadata": {},
   "outputs": [],
   "source": [
    "# Initialise dependent field from undeformed geometry and displacement bcs and set hydrostatic pressure\n",
    "iron.Field.ParametersToFieldParametersComponentCopy(\n",
    "    geometricField,iron.FieldVariableTypes.U,iron.FieldParameterSetTypes.VALUES,1,\n",
    "    dependentField,iron.FieldVariableTypes.U,iron.FieldParameterSetTypes.VALUES,1)\n",
    "iron.Field.ParametersToFieldParametersComponentCopy(\n",
    "    geometricField,iron.FieldVariableTypes.U,iron.FieldParameterSetTypes.VALUES,2,\n",
    "    dependentField,iron.FieldVariableTypes.U,iron.FieldParameterSetTypes.VALUES,2)\n",
    "iron.Field.ParametersToFieldParametersComponentCopy(\n",
    "    geometricField,iron.FieldVariableTypes.U,iron.FieldParameterSetTypes.VALUES,3,\n",
    "    dependentField,iron.FieldVariableTypes.U,iron.FieldParameterSetTypes.VALUES,3)\n",
    "iron.Field.ComponentValuesInitialiseDP(\n",
    "    dependentField,iron.FieldVariableTypes.U,iron.FieldParameterSetTypes.VALUES,4,0.0)"
   ]
  },
  {
   "cell_type": "markdown",
   "metadata": {},
   "source": [
    "### 14. Defining the problem\n",
    "\n",
    "Now that we have defined all the equations we will need we can create our problem to be solved by OpenCMISS. We create a standard finite elasticity problem, which is a member of the elasticity field problem class. The problem control loop uses the default load increment loop and hence does not require a subtype.  "
   ]
  },
  {
   "cell_type": "code",
   "execution_count": 17,
   "metadata": {},
   "outputs": [],
   "source": [
    "# Define the problem\n",
    "problemUserNumber = 1\n",
    "problem = iron.Problem()\n",
    "problemSpecification = [iron.ProblemClasses.ELASTICITY,\n",
    "        iron.ProblemTypes.FINITE_ELASTICITY,\n",
    "        iron.ProblemSubtypes.NONE]\n",
    "problem.CreateStart(problemUserNumber, problemSpecification)\n",
    "problem.CreateFinish()"
   ]
  },
  {
   "cell_type": "markdown",
   "metadata": {},
   "source": [
    "### 15. Defining control loops\n",
    "\n",
    "The problem type defines a control loop structure that is used when solving the problem. The OpenCMISS control loop is a \"supervisor\" for the computational process. We may have multiple control loops with nested sub loops, and control loops can have different types, for example load incremented loops or time loops for dynamic problems. These control loops have been defined in the OpenCMISS-Iron library for the finite elasticity type of equations as a load increment loop. If we wanted to access the control loop and modify it we would use the problem.ControlLoopGet method before finishing the creation of the control loops. In the below code snippet we get the control loop to set the number of load increments to be used to solve the problem using the variable **numberOfLoadIncrements**. "
   ]
  },
  {
   "cell_type": "code",
   "execution_count": 18,
   "metadata": {},
   "outputs": [],
   "source": [
    "# Create the problem control loop\n",
    "problem.ControlLoopCreateStart()\n",
    "controlLoop = iron.ControlLoop()\n",
    "problem.ControlLoopGet([iron.ControlLoopIdentifiers.NODE],controlLoop)\n",
    "controlLoop.MaximumIterationsSet(numberOfLoadIncrements)\n",
    "problem.ControlLoopCreateFinish()\n"
   ]
  },
  {
   "cell_type": "markdown",
   "metadata": {},
   "source": [
    "### 16. Defining solvers\n",
    "\n",
    "After defining the problem structure we can create the solvers that will be run to actually solve our problem. The problem type defines the solvers to be set up so we call problem.SolversCreateStart() to create the solvers and then we can access the solvers to modify their properties. "
   ]
  },
  {
   "cell_type": "code",
   "execution_count": 19,
   "metadata": {},
   "outputs": [],
   "source": [
    "# Create problem solver\n",
    "nonLinearSolver = iron.Solver()\n",
    "linearSolver = iron.Solver()\n",
    "problem.SolversCreateStart()\n",
    "problem.SolverGet([iron.ControlLoopIdentifiers.NODE],1,nonLinearSolver)\n",
    "\n",
    "nonLinearSolver.outputType = iron.SolverOutputTypes.NONE\n",
    "nonLinearSolver.NewtonJacobianCalculationTypeSet(\n",
    "        iron.JacobianCalculationTypes.EQUATIONS)\n",
    "nonLinearSolver.NewtonLinearSolverGet(linearSolver)\n",
    "linearSolver.linearType = iron.LinearSolverTypes.DIRECT\n",
    "#linearSolver.libraryType = iron.SolverLibraries.LAPACK\n",
    "problem.SolversCreateFinish()"
   ]
  },
  {
   "cell_type": "markdown",
   "metadata": {},
   "source": [
    "### 17. Defining solver equations\n",
    "After defining our solver we can create the equations for the solver to solve by adding our equations sets to a solver equations object. In this example we have just one equations set to add but for coupled problems we may have multiple equations sets in the solver equations. "
   ]
  },
  {
   "cell_type": "code",
   "execution_count": 20,
   "metadata": {},
   "outputs": [],
   "source": [
    "# Create solver equations and add equations set to solver equations\n",
    "solver = iron.Solver()\n",
    "solverEquations = iron.SolverEquations()\n",
    "problem.SolverEquationsCreateStart()\n",
    "problem.SolverGet([iron.ControlLoopIdentifiers.NODE],1,solver)\n",
    "solver.SolverEquationsGet(solverEquations)\n",
    "solverEquations.sparsityType = iron.SolverEquationsSparsityTypes.SPARSE\n",
    "_ = solverEquations.EquationsSetAdd(equationsSet)\n",
    "problem.SolverEquationsCreateFinish()\n"
   ]
  },
  {
   "cell_type": "markdown",
   "metadata": {},
   "source": [
    "### 18. Defining the boundary conditions\n",
    "\n",
    "The final step in configuring the problem is to define the boundary conditions to be satisfied. Here, as stated at the top of the tutorial we have set up five different boundary conditions settings to represent four different loading conditions on the cube geometry: \n",
    "* Model 1 (Uniaxial extension of a unit cube)\n",
    "* Model 2 (Equibiaxial extension of a unit cube)\n",
    "* Model 3 (Simple shear of a unit cube)\n",
    "* Model 4 (Shear of a unit cube)\n",
    "* Model 5 (Extension and shear of a unit cube)\n",
    "\n",
    "The variable **model** set at the top of the tutorial program can be used to switch between these deformations. Each line of boundary condition code below sets dirchlet boundary conditions that prescribe a nodal coordinate value. The constant **iron.BoundaryConditionsTypes.FIXED** indicates that the value needs to be fixed to a certain value given in the argument following this constant. \n",
    "\n",
    "When solverEquations.BoundaryConditionsCreateFinish() is called OpenCMISS will construct the solver matrices and vectors."
   ]
  },
  {
   "cell_type": "code",
   "execution_count": 21,
   "metadata": {},
   "outputs": [],
   "source": [
    "# Prescribe boundary conditions (absolute nodal parameters)\n",
    "boundaryConditions = iron.BoundaryConditions()\n",
    "solverEquations.BoundaryConditionsCreateStart(boundaryConditions)\n",
    "if model == 1:\n",
    "    boundaryConditions.AddNode(dependentField,iron.FieldVariableTypes.U,1,1,1,X,iron.BoundaryConditionsTypes.FIXED,0.0)\n",
    "    boundaryConditions.AddNode(dependentField,iron.FieldVariableTypes.U,1,1,3,X,iron.BoundaryConditionsTypes.FIXED,0.0)\n",
    "    boundaryConditions.AddNode(dependentField,iron.FieldVariableTypes.U,1,1,5,X,iron.BoundaryConditionsTypes.FIXED,0.0)\n",
    "    boundaryConditions.AddNode(dependentField,iron.FieldVariableTypes.U,1,1,7,X,iron.BoundaryConditionsTypes.FIXED,0.0)\n",
    "    boundaryConditions.AddNode(dependentField,iron.FieldVariableTypes.U,1,1,2,X,iron.BoundaryConditionsTypes.FIXED,0.5)\n",
    "    boundaryConditions.AddNode(dependentField,iron.FieldVariableTypes.U,1,1,4,X,iron.BoundaryConditionsTypes.FIXED,0.5)\n",
    "    boundaryConditions.AddNode(dependentField,iron.FieldVariableTypes.U,1,1,6,X,iron.BoundaryConditionsTypes.FIXED,0.5)\n",
    "    boundaryConditions.AddNode(dependentField,iron.FieldVariableTypes.U,1,1,8,X,iron.BoundaryConditionsTypes.FIXED,0.5)\n",
    "\n",
    "    boundaryConditions.AddNode(dependentField,iron.FieldVariableTypes.U,1,1,1,Y,iron.BoundaryConditionsTypes.FIXED,0.0)\n",
    "    boundaryConditions.AddNode(dependentField,iron.FieldVariableTypes.U,1,1,2,Y,iron.BoundaryConditionsTypes.FIXED,0.0)\n",
    "    boundaryConditions.AddNode(dependentField,iron.FieldVariableTypes.U,1,1,5,Y,iron.BoundaryConditionsTypes.FIXED,0.0)\n",
    "    boundaryConditions.AddNode(dependentField,iron.FieldVariableTypes.U,1,1,6,Y,iron.BoundaryConditionsTypes.FIXED,0.0)\n",
    "\n",
    "    boundaryConditions.AddNode(dependentField,iron.FieldVariableTypes.U,1,1,1,Z,iron.BoundaryConditionsTypes.FIXED,0.0)\n",
    "    boundaryConditions.AddNode(dependentField,iron.FieldVariableTypes.U,1,1,2,Z,iron.BoundaryConditionsTypes.FIXED,0.0)\n",
    "    boundaryConditions.AddNode(dependentField,iron.FieldVariableTypes.U,1,1,3,Z,iron.BoundaryConditionsTypes.FIXED,0.0)\n",
    "    boundaryConditions.AddNode(dependentField,iron.FieldVariableTypes.U,1,1,4,Z,iron.BoundaryConditionsTypes.FIXED,0.0)\n",
    "\n",
    "    p = -2.*-0.1056E+01\n",
    "\n",
    "elif model == 2:\n",
    "    boundaryConditions.AddNode(dependentField,iron.FieldVariableTypes.U,1,1,1,X,iron.BoundaryConditionsTypes.FIXED,0.0)\n",
    "    boundaryConditions.AddNode(dependentField,iron.FieldVariableTypes.U,1,1,3,X,iron.BoundaryConditionsTypes.FIXED,0.0)\n",
    "    boundaryConditions.AddNode(dependentField,iron.FieldVariableTypes.U,1,1,5,X,iron.BoundaryConditionsTypes.FIXED,0.0)\n",
    "    boundaryConditions.AddNode(dependentField,iron.FieldVariableTypes.U,1,1,7,X,iron.BoundaryConditionsTypes.FIXED,0.0)\n",
    "    boundaryConditions.AddNode(dependentField,iron.FieldVariableTypes.U,1,1,2,X,iron.BoundaryConditionsTypes.FIXED,0.25)\n",
    "    boundaryConditions.AddNode(dependentField,iron.FieldVariableTypes.U,1,1,4,X,iron.BoundaryConditionsTypes.FIXED,0.25)\n",
    "    boundaryConditions.AddNode(dependentField,iron.FieldVariableTypes.U,1,1,6,X,iron.BoundaryConditionsTypes.FIXED,0.25)\n",
    "    boundaryConditions.AddNode(dependentField,iron.FieldVariableTypes.U,1,1,8,X,iron.BoundaryConditionsTypes.FIXED,0.25)\n",
    "\n",
    "    boundaryConditions.AddNode(dependentField,iron.FieldVariableTypes.U,1,1,1,Y,iron.BoundaryConditionsTypes.FIXED,0.0)\n",
    "    boundaryConditions.AddNode(dependentField,iron.FieldVariableTypes.U,1,1,2,Y,iron.BoundaryConditionsTypes.FIXED,0.0)\n",
    "    boundaryConditions.AddNode(dependentField,iron.FieldVariableTypes.U,1,1,5,Y,iron.BoundaryConditionsTypes.FIXED,0.0)\n",
    "    boundaryConditions.AddNode(dependentField,iron.FieldVariableTypes.U,1,1,6,Y,iron.BoundaryConditionsTypes.FIXED,0.0)\n",
    "    boundaryConditions.AddNode(dependentField,iron.FieldVariableTypes.U,1,1,3,Y,iron.BoundaryConditionsTypes.FIXED,0.25)\n",
    "    boundaryConditions.AddNode(dependentField,iron.FieldVariableTypes.U,1,1,4,Y,iron.BoundaryConditionsTypes.FIXED,0.25)\n",
    "    boundaryConditions.AddNode(dependentField,iron.FieldVariableTypes.U,1,1,7,Y,iron.BoundaryConditionsTypes.FIXED,0.25)\n",
    "    boundaryConditions.AddNode(dependentField,iron.FieldVariableTypes.U,1,1,8,Y,iron.BoundaryConditionsTypes.FIXED,0.25)\n",
    "\n",
    "    boundaryConditions.AddNode(dependentField,iron.FieldVariableTypes.U,1,1,1,Z,iron.BoundaryConditionsTypes.FIXED,0.0)\n",
    "    boundaryConditions.AddNode(dependentField,iron.FieldVariableTypes.U,1,1,2,Z,iron.BoundaryConditionsTypes.FIXED,0.0)\n",
    "    boundaryConditions.AddNode(dependentField,iron.FieldVariableTypes.U,1,1,3,Z,iron.BoundaryConditionsTypes.FIXED,0.0)\n",
    "    boundaryConditions.AddNode(dependentField,iron.FieldVariableTypes.U,1,1,4,Z,iron.BoundaryConditionsTypes.FIXED,0.0)\n",
    "\n",
    "    p = -2.*-0.6656E+00\n",
    "\n",
    "elif model == 3:\n",
    "    boundaryConditions.AddNode(dependentField,iron.FieldVariableTypes.U,1,1,1,X,iron.BoundaryConditionsTypes.FIXED,0.0)\n",
    "    boundaryConditions.AddNode(dependentField,iron.FieldVariableTypes.U,1,1,3,X,iron.BoundaryConditionsTypes.FIXED,0.0)\n",
    "    boundaryConditions.AddNode(dependentField,iron.FieldVariableTypes.U,1,1,5,X,iron.BoundaryConditionsTypes.FIXED,0.5)\n",
    "    boundaryConditions.AddNode(dependentField,iron.FieldVariableTypes.U,1,1,7,X,iron.BoundaryConditionsTypes.FIXED,0.5)\n",
    "    boundaryConditions.AddNode(dependentField,iron.FieldVariableTypes.U,1,1,2,X,iron.BoundaryConditionsTypes.FIXED,0.0)\n",
    "    boundaryConditions.AddNode(dependentField,iron.FieldVariableTypes.U,1,1,4,X,iron.BoundaryConditionsTypes.FIXED,0.0)\n",
    "    boundaryConditions.AddNode(dependentField,iron.FieldVariableTypes.U,1,1,6,X,iron.BoundaryConditionsTypes.FIXED,0.5)\n",
    "    boundaryConditions.AddNode(dependentField,iron.FieldVariableTypes.U,1,1,8,X,iron.BoundaryConditionsTypes.FIXED,0.5)\n",
    "\n",
    "    boundaryConditions.AddNode(dependentField,iron.FieldVariableTypes.U,1,1,1,Y,iron.BoundaryConditionsTypes.FIXED,0.0)\n",
    "    boundaryConditions.AddNode(dependentField,iron.FieldVariableTypes.U,1,1,2,Y,iron.BoundaryConditionsTypes.FIXED,0.0)\n",
    "    boundaryConditions.AddNode(dependentField,iron.FieldVariableTypes.U,1,1,5,Y,iron.BoundaryConditionsTypes.FIXED,0.0)\n",
    "    boundaryConditions.AddNode(dependentField,iron.FieldVariableTypes.U,1,1,6,Y,iron.BoundaryConditionsTypes.FIXED,0.0)\n",
    "\n",
    "    boundaryConditions.AddNode(dependentField,iron.FieldVariableTypes.U,1,1,1,Z,iron.BoundaryConditionsTypes.FIXED,0.0)\n",
    "    boundaryConditions.AddNode(dependentField,iron.FieldVariableTypes.U,1,1,2,Z,iron.BoundaryConditionsTypes.FIXED,0.0)\n",
    "    boundaryConditions.AddNode(dependentField,iron.FieldVariableTypes.U,1,1,3,Z,iron.BoundaryConditionsTypes.FIXED,0.0)\n",
    "    boundaryConditions.AddNode(dependentField,iron.FieldVariableTypes.U,1,1,4,Z,iron.BoundaryConditionsTypes.FIXED,0.0)\n",
    "    boundaryConditions.AddNode(dependentField,iron.FieldVariableTypes.U,1,1,5,Z,iron.BoundaryConditionsTypes.FIXED,0.0)\n",
    "    boundaryConditions.AddNode(dependentField,iron.FieldVariableTypes.U,1,1,6,Z,iron.BoundaryConditionsTypes.FIXED,0.0)\n",
    "    boundaryConditions.AddNode(dependentField,iron.FieldVariableTypes.U,1,1,7,Z,iron.BoundaryConditionsTypes.FIXED,0.0)\n",
    "    boundaryConditions.AddNode(dependentField,iron.FieldVariableTypes.U,1,1,8,Z,iron.BoundaryConditionsTypes.FIXED,0.0)\n",
    "\n",
    "    p = -2.*-0.1450E+01\n",
    "\n",
    "elif model == 4:\n",
    "    boundaryConditions.AddNode(dependentField,iron.FieldVariableTypes.U,1,1,1,X,iron.BoundaryConditionsTypes.FIXED,0.0)\n",
    "    boundaryConditions.AddNode(dependentField,iron.FieldVariableTypes.U,1,1,3,X,iron.BoundaryConditionsTypes.FIXED,0.0)\n",
    "    boundaryConditions.AddNode(dependentField,iron.FieldVariableTypes.U,1,1,6,X,iron.BoundaryConditionsTypes.FIXED,0.5)\n",
    "    boundaryConditions.AddNode(dependentField,iron.FieldVariableTypes.U,1,1,8,X,iron.BoundaryConditionsTypes.FIXED,0.5)\n",
    "\n",
    "    boundaryConditions.AddNode(dependentField,iron.FieldVariableTypes.U,1,1,1,Y,iron.BoundaryConditionsTypes.FIXED,0.0)\n",
    "    boundaryConditions.AddNode(dependentField,iron.FieldVariableTypes.U,1,1,2,Y,iron.BoundaryConditionsTypes.FIXED,0.0)\n",
    "    boundaryConditions.AddNode(dependentField,iron.FieldVariableTypes.U,1,1,5,Y,iron.BoundaryConditionsTypes.FIXED,0.0)\n",
    "    boundaryConditions.AddNode(dependentField,iron.FieldVariableTypes.U,1,1,6,Y,iron.BoundaryConditionsTypes.FIXED,0.0)\n",
    "\n",
    "    boundaryConditions.AddNode(dependentField,iron.FieldVariableTypes.U,1,1,1,Z,iron.BoundaryConditionsTypes.FIXED,0.0)\n",
    "    boundaryConditions.AddNode(dependentField,iron.FieldVariableTypes.U,1,1,3,Z,iron.BoundaryConditionsTypes.FIXED,0.0)\n",
    "    boundaryConditions.AddNode(dependentField,iron.FieldVariableTypes.U,1,1,6,Z,iron.BoundaryConditionsTypes.FIXED,0.5)\n",
    "    boundaryConditions.AddNode(dependentField,iron.FieldVariableTypes.U,1,1,8,Z,iron.BoundaryConditionsTypes.FIXED,0.5)\n",
    "\n",
    "    p = -2.*-0.1056E+01\n",
    "\n",
    "elif model == 5:\n",
    "    boundaryConditions.AddNode(dependentField,iron.FieldVariableTypes.U,1,1,1,X,iron.BoundaryConditionsTypes.FIXED,0.0)\n",
    "    boundaryConditions.AddNode(dependentField,iron.FieldVariableTypes.U,1,1,3,X,iron.BoundaryConditionsTypes.FIXED,0.0)\n",
    "    boundaryConditions.AddNode(dependentField,iron.FieldVariableTypes.U,1,1,5,X,iron.BoundaryConditionsTypes.FIXED,0.5)\n",
    "    boundaryConditions.AddNode(dependentField,iron.FieldVariableTypes.U,1,1,7,X,iron.BoundaryConditionsTypes.FIXED,0.5)\n",
    "    boundaryConditions.AddNode(dependentField,iron.FieldVariableTypes.U,1,1,2,X,iron.BoundaryConditionsTypes.FIXED,0.25)\n",
    "    boundaryConditions.AddNode(dependentField,iron.FieldVariableTypes.U,1,1,4,X,iron.BoundaryConditionsTypes.FIXED,0.25)\n",
    "    boundaryConditions.AddNode(dependentField,iron.FieldVariableTypes.U,1,1,6,X,iron.BoundaryConditionsTypes.FIXED,0.75)\n",
    "    boundaryConditions.AddNode(dependentField,iron.FieldVariableTypes.U,1,1,8,X,iron.BoundaryConditionsTypes.FIXED,0.75)\n",
    "\n",
    "    boundaryConditions.AddNode(dependentField,iron.FieldVariableTypes.U,1,1,1,Y,iron.BoundaryConditionsTypes.FIXED,0.0)\n",
    "    boundaryConditions.AddNode(dependentField,iron.FieldVariableTypes.U,1,1,2,Y,iron.BoundaryConditionsTypes.FIXED,0.0)\n",
    "    boundaryConditions.AddNode(dependentField,iron.FieldVariableTypes.U,1,1,5,Y,iron.BoundaryConditionsTypes.FIXED,0.0)\n",
    "    boundaryConditions.AddNode(dependentField,iron.FieldVariableTypes.U,1,1,6,Y,iron.BoundaryConditionsTypes.FIXED,0.0)\n",
    "\n",
    "    boundaryConditions.AddNode(dependentField,iron.FieldVariableTypes.U,1,1,1,Z,iron.BoundaryConditionsTypes.FIXED,0.0)\n",
    "    boundaryConditions.AddNode(dependentField,iron.FieldVariableTypes.U,1,1,2,Z,iron.BoundaryConditionsTypes.FIXED,0.0)\n",
    "    boundaryConditions.AddNode(dependentField,iron.FieldVariableTypes.U,1,1,3,Z,iron.BoundaryConditionsTypes.FIXED,0.0)\n",
    "    boundaryConditions.AddNode(dependentField,iron.FieldVariableTypes.U,1,1,4,Z,iron.BoundaryConditionsTypes.FIXED,0.0)\n",
    "    boundaryConditions.AddNode(dependentField,iron.FieldVariableTypes.U,1,1,5,Z,iron.BoundaryConditionsTypes.FIXED,0.0)\n",
    "    boundaryConditions.AddNode(dependentField,iron.FieldVariableTypes.U,1,1,6,Z,iron.BoundaryConditionsTypes.FIXED,0.0)\n",
    "    boundaryConditions.AddNode(dependentField,iron.FieldVariableTypes.U,1,1,7,Z,iron.BoundaryConditionsTypes.FIXED,0.0)\n",
    "    boundaryConditions.AddNode(dependentField,iron.FieldVariableTypes.U,1,1,8,Z,iron.BoundaryConditionsTypes.FIXED,0.0)\n",
    "\n",
    "    p = -2.*-0.1000E+01\n",
    "\n",
    "solverEquations.BoundaryConditionsCreateFinish()\n"
   ]
  },
  {
   "cell_type": "markdown",
   "metadata": {},
   "source": [
    "### 19. Solving the problem\n",
    "After our problem solver equations have been fully defined we are now ready to solve our problem. When we call the Solve method of the problem it will loop over the control loops and control loop solvers to solve our problem:"
   ]
  },
  {
   "cell_type": "code",
   "execution_count": 22,
   "metadata": {},
   "outputs": [],
   "source": [
    "\n",
    "# Solve the problem\n",
    "problem.Solve()\n"
   ]
  },
  {
   "cell_type": "markdown",
   "metadata": {},
   "source": [
    "### 20. Post solution data extraction and analysis.\n",
    "Now that the deformation problem has been solved we can extract information for analysis purposes. First, the code snippet below copies the values stored in the dependent field into the deformedField and pressureField that were set up in steps 7 and 8 above."
   ]
  },
  {
   "cell_type": "code",
   "execution_count": 23,
   "metadata": {},
   "outputs": [],
   "source": [
    "# Copy deformed geometry into deformed field\n",
    "for component in [1, 2, 3]:\n",
    "    dependentField.ParametersToFieldParametersComponentCopy(\n",
    "        iron.FieldVariableTypes.U,\n",
    "        iron.FieldParameterSetTypes.VALUES, component,\n",
    "        deformedField, iron.FieldVariableTypes.U,\n",
    "        iron.FieldParameterSetTypes.VALUES, component)\n",
    "\n",
    "# Copy pressure into pressure field\n",
    "dependentField.ParametersToFieldParametersComponentCopy(\n",
    "        iron.FieldVariableTypes.U,\n",
    "        iron.FieldParameterSetTypes.VALUES, 4,\n",
    "        pressureField, iron.FieldVariableTypes.U,\n",
    "        iron.FieldParameterSetTypes.VALUES, 1)"
   ]
  },
  {
   "cell_type": "markdown",
   "metadata": {},
   "source": [
    "### Examples of extracting mechanics tensor fields like F, C and E. "
   ]
  },
  {
   "cell_type": "code",
   "execution_count": 30,
   "metadata": {},
   "outputs": [],
   "source": [
    "results = {}\n",
    "elementNumber = 1\n",
    "xiPosition = [0.5, 0.5, 0.5]\n",
    "F = equationsSet.TensorInterpolateXi(\n",
    "    iron.EquationsSetDerivedTensorTypes.DEFORMATION_GRADIENT,\n",
    "    elementNumber, xiPosition,(3,3))\n",
    "results['Deformation Gradient Tensor'] = F\n",
    "\n",
    "C = equationsSet.TensorInterpolateXi(\n",
    "    iron.EquationsSetDerivedTensorTypes.R_CAUCHY_GREEN_DEFORMATION,\n",
    "    elementNumber, xiPosition,(3,3))\n",
    "results['Right Cauchy-Green Deformation Tensor'] = C\n",
    "\n",
    "E = equationsSet.TensorInterpolateXi(\n",
    "    iron.EquationsSetDerivedTensorTypes.GREEN_LAGRANGE_STRAIN,\n",
    "    elementNumber, xiPosition,(3,3))\n",
    "results['Green-Lagrange Strain Tensor'] = E"
   ]
  },
  {
   "cell_type": "markdown",
   "metadata": {},
   "source": [
    "### $I_1$, $I_2$, $I_3$"
   ]
  },
  {
   "cell_type": "code",
   "execution_count": 31,
   "metadata": {},
   "outputs": [],
   "source": [
    "I1=numpy.trace(C)\n",
    "I2=0.5*(numpy.trace(C)**2.-numpy.tensordot(C,C))\n",
    "I3=numpy.linalg.det(C)\n",
    "results['Invariants'] = [I1, I2, I3]\n",
    "\n",
    "TC = equationsSet.TensorInterpolateXi(\n",
    "    iron.EquationsSetDerivedTensorTypes.CAUCHY_STRESS,\n",
    "    elementNumber, xiPosition,(3,3))\n",
    "results['Cauchy Stress Tensor'] = TC\n",
    "\n",
    "# Output of Second Piola-Kirchhoff Stress Tensor not implemented. It is\n",
    "# instead, calculated from TG=J*F^(-1)*TC*F^(-T), where T indicates the\n",
    "# transpose fo the matrix.\n",
    "#TG = equationsSet.TensorInterpolateXi(\n",
    "#    iron.EquationsSetTensorEvaluateTypes.SECOND_PK_STRESS,\n",
    "#    elementNumber, xiPosition,(3,3))\n",
    "#J=1. #Assumes J=1\n",
    "TG = numpy.dot(numpy.linalg.inv(F),numpy.dot(\n",
    "        TC,numpy.linalg.inv(numpy.matrix.transpose(F))))\n",
    "results['Second Piola-Kirchhoff Stress Tensor'] = TG\n",
    "\n",
    "# Note that the hydrostatic pressure value is different from the value quoted\n",
    "# in the original lab instructions. This is because the stress has been\n",
    "# evaluated using modified invariants (isochoric invariants)\n",
    "#p = dependentField.ParameterSetGetElement(\n",
    "#    iron.FieldVariableTypes.U,\n",
    "#    iron.FieldParameterSetTypes.VALUES,elementNumber,4)\n",
    "results['Hydrostatic pressure'] = p\n"
   ]
  },
  {
   "cell_type": "markdown",
   "metadata": {},
   "source": [
    "### Clean up"
   ]
  },
  {
   "cell_type": "code",
   "execution_count": 32,
   "metadata": {},
   "outputs": [
    {
     "ename": "CMFEError",
     "evalue": "",
     "output_type": "error",
     "traceback": [
      "\u001B[0;31m---------------------------------------------------------------------------\u001B[0m",
      "\u001B[0;31mCMFEError\u001B[0m                                 Traceback (most recent call last)",
      "\u001B[0;32m<ipython-input-32-00435d7beee4>\u001B[0m in \u001B[0;36m<module>\u001B[0;34m()\u001B[0m\n\u001B[1;32m      1\u001B[0m \u001B[0;34m\u001B[0m\u001B[0m\n\u001B[1;32m      2\u001B[0m \u001B[0mproblem\u001B[0m\u001B[0;34m.\u001B[0m\u001B[0mDestroy\u001B[0m\u001B[0;34m(\u001B[0m\u001B[0;34m)\u001B[0m\u001B[0;34m\u001B[0m\u001B[0m\n\u001B[0;32m----> 3\u001B[0;31m \u001B[0mcoordinateSystem\u001B[0m\u001B[0;34m.\u001B[0m\u001B[0mDestroy\u001B[0m\u001B[0;34m(\u001B[0m\u001B[0;34m)\u001B[0m\u001B[0;34m\u001B[0m\u001B[0m\n\u001B[0m\u001B[1;32m      4\u001B[0m \u001B[0mregion\u001B[0m\u001B[0;34m.\u001B[0m\u001B[0mDestroy\u001B[0m\u001B[0;34m(\u001B[0m\u001B[0;34m)\u001B[0m\u001B[0;34m\u001B[0m\u001B[0m\n\u001B[1;32m      5\u001B[0m \u001B[0mbasis\u001B[0m\u001B[0;34m.\u001B[0m\u001B[0mDestroy\u001B[0m\u001B[0;34m(\u001B[0m\u001B[0;34m)\u001B[0m\u001B[0;34m\u001B[0m\u001B[0m\n",
      "\u001B[0;32m/home/psam012/opt/OpenCMISS/2019-05-14/opencmiss/install/virtual_environments/oclibs_venv_py35_release/lib/python3.5/site-packages/opencmiss/iron/iron.py\u001B[0m in \u001B[0;36mDestroy\u001B[0;34m(self)\u001B[0m\n\u001B[1;32m   1224\u001B[0m \u001B[0;34m\u001B[0m\u001B[0m\n\u001B[1;32m   1225\u001B[0m         \u001B[0mcoordinateSystem\u001B[0m \u001B[0;34m=\u001B[0m \u001B[0mself\u001B[0m\u001B[0;34m\u001B[0m\u001B[0m\n\u001B[0;32m-> 1226\u001B[0;31m         \u001B[0;32mreturn\u001B[0m \u001B[0m_wrap_routine\u001B[0m\u001B[0;34m(\u001B[0m\u001B[0m_iron_python\u001B[0m\u001B[0;34m.\u001B[0m\u001B[0mcmfe_CoordinateSystem_Destroy\u001B[0m\u001B[0;34m,\u001B[0m \u001B[0;34m[\u001B[0m\u001B[0mcoordinateSystem\u001B[0m\u001B[0;34m]\u001B[0m\u001B[0;34m)\u001B[0m\u001B[0;34m\u001B[0m\u001B[0m\n\u001B[0m\u001B[1;32m   1227\u001B[0m \u001B[0;34m\u001B[0m\u001B[0m\n\u001B[1;32m   1228\u001B[0m     \u001B[0;32mdef\u001B[0m \u001B[0mDimensionGet\u001B[0m\u001B[0;34m(\u001B[0m\u001B[0mself\u001B[0m\u001B[0;34m)\u001B[0m\u001B[0;34m:\u001B[0m\u001B[0;34m\u001B[0m\u001B[0m\n",
      "\u001B[0;32m/home/psam012/opt/OpenCMISS/2019-05-14/opencmiss/install/virtual_environments/oclibs_venv_py35_release/lib/python3.5/site-packages/opencmiss/iron/_utils.py\u001B[0m in \u001B[0;36mwrap_cmiss_routine\u001B[0;34m(routine, args)\u001B[0m\n\u001B[1;32m     75\u001B[0m             \u001B[0;32mraise\u001B[0m \u001B[0mCMFEError\u001B[0m\u001B[0;34m(\u001B[0m\u001B[0;34m\"Error converting pointer\"\u001B[0m\u001B[0;34m)\u001B[0m\u001B[0;34m\u001B[0m\u001B[0m\n\u001B[1;32m     76\u001B[0m         \u001B[0;32melse\u001B[0m\u001B[0;34m:\u001B[0m\u001B[0;34m\u001B[0m\u001B[0m\n\u001B[0;32m---> 77\u001B[0;31m             \u001B[0;32mraise\u001B[0m \u001B[0mCMFEError\u001B[0m\u001B[0;34m(\u001B[0m\u001B[0m_iron_python\u001B[0m\u001B[0;34m.\u001B[0m\u001B[0mcmfe_ExtractErrorMessage\u001B[0m\u001B[0;34m(\u001B[0m\u001B[0;34m)\u001B[0m\u001B[0;34m[\u001B[0m\u001B[0;36m1\u001B[0m\u001B[0;34m]\u001B[0m\u001B[0;34m)\u001B[0m\u001B[0;34m\u001B[0m\u001B[0m\n\u001B[0m\u001B[1;32m     78\u001B[0m     \u001B[0;32mreturn\u001B[0m \u001B[0mreturn_val\u001B[0m\u001B[0;34m\u001B[0m\u001B[0m\n",
      "\u001B[0;31mCMFEError\u001B[0m: "
     ]
    }
   ],
   "source": [
    "\n",
    "problem.Destroy()\n",
    "coordinateSystem.Destroy()\n",
    "region.Destroy()\n",
    "basis.Destroy()\n"
   ]
  },
  {
   "cell_type": "markdown",
   "metadata": {},
   "source": [
    "## Additional exercises"
   ]
  },
  {
   "cell_type": "markdown",
   "metadata": {},
   "source": [
    "### Changing boundary conditions\n",
    "\n",
    "Change the value of **model** and re-run the notebook to see the effect of altered boundary conditions. "
   ]
  },
  {
   "cell_type": "markdown",
   "metadata": {},
   "source": [
    "### Modifying the code to model anisotropic materials. \n",
    "To capture the effect of anisotropic microstructural organisation two things need to be changed: (i) you need to mathematically describe the microstructure organisation within the fibre field; (ii) you need to choose an appropraite constitutive equation that captures the stress-strain relationship in the different independent microstructural directions. "
   ]
  },
  {
   "cell_type": "markdown",
   "metadata": {},
   "source": [
    "### Modifying the code to model heterogeneity in tissue properties\n",
    "Heterogeneity of a tissue can be represented by assigning different values of the constitutive equation parameters in different elements within the OpenCMISS-Iron field dedicated to defining the constitutive equations parameters. In this example feel free to test this capability by assigning a different set of mooney rivlin values in a subset of the elements. You can use this code snippet below (remove the hash) to change the value at a particular node. Note, to really make a difference you should set a different value at all the nodes of the set of elements which represent a particular region of the tissue.\n",
    "\n",
    "In the code snippet\n",
    "* **value** defines the value to be set for a chosen material field parameter\n",
    "* **componentNumber** is the component of the material field to be set at the node\n",
    "* **userNodeNumber** defines the node number at which the material field parameter is to be set to **value**\n",
    "* **versionNumber** is a reference to whether you have duplicate nodes that are sometimes useful for meshes of complex geometries. For now just now that the default value should be 1. "
   ]
  },
  {
   "cell_type": "code",
   "execution_count": null,
   "metadata": {},
   "outputs": [],
   "source": [
    "#materialField.ParameterSetUpdateNodeDP(iron.FieldVariableTypes.U, iron.FieldParameterSetTypes.VALUES, versionNumber, derivativeNumber, userNodeNumber, componentNumber, value)"
   ]
  }
 ],
 "metadata": {
  "kernelspec": {
   "display_name": "Python 3",
   "language": "python",
   "name": "python3"
  },
  "language_info": {
   "codemirror_mode": {
    "name": "ipython",
    "version": 3
   },
   "file_extension": ".py",
   "mimetype": "text/x-python",
   "name": "python",
   "nbconvert_exporter": "python",
   "pygments_lexer": "ipython3",
   "version": "3.5.2"
  }
 },
 "nbformat": 4,
 "nbformat_minor": 4
}