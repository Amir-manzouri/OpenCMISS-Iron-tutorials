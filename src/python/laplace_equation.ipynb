{
 "cells": [
  {
   "cell_type": "markdown",
   "metadata": {},
   "source": [
    "# Setting up an OpenCMISS-Iron problem from scratch - jupyter notebook\n",
    "\n",
    "This is an example script to solve a Laplace problem using OpenCMISS-Iron calls\n",
    " in python ike all python examples with importing modules.\n",
    "\n",
    "In mathematics and physics, Laplace's equation is a second-order partial differential equation\n",
    "named after Pierre-Simon Laplace who first studied its properties.\n",
    "\n",
    "## Loading OpenCMISS-Iron library\n",
    "In order to use OpenCMISS we have to first import the opencmiss.iron module\n",
    "from the opencmiss package. This initialises library with default values and\n",
    "seeds random generator with a new value"
   ]
  },
  {
   "cell_type": "code",
   "execution_count": 1,
   "metadata": {},
   "outputs": [
    {
     "name": "stdout",
     "output_type": "stream",
     "text": [
      "Hello world\n"
     ]
    }
   ],
   "source": [
    "# Intialise OpenCMISS-Iron.\n",
    "from opencmiss.iron import iron\n",
    "print('Hello world')"
   ]
  },
  {
   "cell_type": "markdown",
   "metadata": {
    "pycharm": {
     "name": "#%% md\n"
    }
   },
   "source": [
    "Assuming OpenCMISS has been correctly built with the Python bindings by\n",
    "following the instructions in the programmer documentation, we can now access\n",
    "all the OpenCMISS functions, classes and constants under the iron namespace.\n",
    "\n",
    "The next section describes how we can interact with the OpenCMISS-Iron library\n",
    "through an object-oriented API."
   ]
  },
  {
   "cell_type": "code",
   "execution_count": 2,
   "metadata": {},
   "outputs": [],
   "source": [
    "# Set problem parameters\n",
    "height = 1.0\n",
    "width = 2.0\n",
    "length = 3.0\n",
    "\n",
    "#We need constant identificators for various \n",
    "#library functional points\n",
    "(coordinateSystemUserNumber,\n",
    "    regionUserNumber,\n",
    "    basisUserNumber,\n",
    "    generatedMeshUserNumber,\n",
    "    meshUserNumber,\n",
    "    decompositionUserNumber,\n",
    "    geometricFieldUserNumber,\n",
    "    equationsSetFieldUserNumber,\n",
    "    dependentFieldUserNumber,\n",
    "    equationsSetUserNumber,\n",
    "    problemUserNumber) = range(1,12)"
   ]
  },
  {
   "cell_type": "code",
   "execution_count": 3,
   "metadata": {},
   "outputs": [],
   "source": [
    "#initialise parameters of the model\n",
    "numberGlobalXElements = 5\n",
    "numberGlobalYElements = 5\n",
    "numberGlobalZElements = 5"
   ]
  },
  {
   "cell_type": "markdown",
   "source": [
    "Get the computational nodes information. Note that in order for the model to\n",
    "utillise parallel computations the code must be running under the supervision\n",
    "of an MPI library and as such must be executed with mpirun/mpiexec assistance\n",
    "If mpirun/mpiexec is not used, number of nodes witll be 1 and only the master\n",
    "node will be created."
   ],
   "metadata": {
    "collapsed": false,
    "pycharm": {
     "name": "#%% md\n"
    }
   }
  },
  {
   "cell_type": "code",
   "execution_count": 4,
   "metadata": {},
   "outputs": [],
   "source": [
    "numberOfComputationalNodes = iron.ComputationalNumberOfNodesGet()\n",
    "computationalNodeNumber = iron.ComputationalNodeNumberGet()"
   ]
  },
  {
   "cell_type": "code",
   "execution_count": 5,
   "metadata": {},
   "outputs": [],
   "source": [
    "\n",
    "# The first step in our example will be to initialise OpenCMISS an to set up a region \n",
    "# and coordinate system for our 3D mesh.\n",
    "\n",
    "# Creation a RC coordinate system\n",
    "coordinateSystem = iron.CoordinateSystem()\n",
    "coordinateSystem.CreateStart(coordinateSystemUserNumber)\n",
    "coordinateSystem.dimension = 3\n",
    "coordinateSystem.CreateFinish()\n",
    "\n",
    "# Create a region\n",
    "region = iron.Region()\n",
    "region.CreateStart(regionUserNumber,iron.WorldRegion)\n",
    "region.label = \"LaplaceRegion\"\n",
    "region.coordinateSystem = coordinateSystem\n",
    "region.CreateFinish()"
   ]
  },
  {
   "cell_type": "code",
   "execution_count": 6,
   "metadata": {},
   "outputs": [],
   "source": [
    "# In this example we will use the generated mesh capabilities of OpenCMISS to \n",
    "# generate our 3D mesh. The first thing we need to do is create a basis function \n",
    "# for the mesh. We will define a trilinear Lagrange basis.\n",
    "# Create a tri-linear lagrange basis\n",
    "basis = iron.Basis()\n",
    "basis.CreateStart(basisUserNumber)\n",
    "basis.type = iron.BasisTypes.LAGRANGE_HERMITE_TP\n",
    "basis.numberOfXi = 3\n",
    "basis.interpolationXi = [iron.BasisInterpolationSpecifications.LINEAR_LAGRANGE]*3\n",
    "basis.quadratureNumberOfGaussXi = [2]*3\n",
    "basis.CreateFinish()"
   ]
  },
  {
   "cell_type": "code",
   "execution_count": 7,
   "metadata": {},
   "outputs": [],
   "source": [
    "# We can now create a generated mesh. We will create a regular mesh of size \n",
    "# width x height x length and divide the mesh into numberOfXElements in the X direction,\n",
    "# numberOfYElements in the Y direction and numberOfZElements in the Z direction. \n",
    "# Note that when we finish generating the mesh we have a mesh object returned to us. \n",
    "# This mesh object is just the same as if we had manually created the regular mesh.\n",
    "\n",
    "#  Create a generated mesh\n",
    "generatedMesh = iron.GeneratedMesh()\n",
    "generatedMesh.CreateStart(generatedMeshUserNumber,region)\n",
    "generatedMesh.type = iron.GeneratedMeshTypes.REGULAR\n",
    "generatedMesh.basis = [basis]\n",
    "generatedMesh.extent = [width,height,length]\n",
    "generatedMesh.numberOfElements = [numberGlobalXElements,numberGlobalYElements,numberGlobalZElements]"
   ]
  },
  {
   "cell_type": "code",
   "execution_count": 8,
   "metadata": {},
   "outputs": [
    {
     "name": "stdout",
     "output_type": "stream",
     "text": [
      "1\n"
     ]
    }
   ],
   "source": [
    "# Let's double check the number of computational nodes we use\n",
    "print(numberOfComputationalNodes)"
   ]
  },
  {
   "cell_type": "code",
   "execution_count": 9,
   "metadata": {},
   "outputs": [],
   "source": [
    "mesh = iron.Mesh()\n",
    "generatedMesh.CreateFinish(meshUserNumber,mesh)\n"
   ]
  },
  {
   "cell_type": "code",
   "execution_count": 10,
   "metadata": {},
   "outputs": [],
   "source": [
    "# Once the mesh has been created we can decompose it into a number of domains in order to allow for \n",
    "# parallelism. We choose the options to let OpenCMISS calculate the best way to break up the mesh. \n",
    "# We also set the number of domains to be equal to the number of computational nodes this example is running on.\n",
    "# Note that if MPI infrastructure is not used, only single domain will ve created\n",
    "\n",
    "# Create a decomposition for the mesh\n",
    "decomposition = iron.Decomposition()\n",
    "decomposition.CreateStart(decompositionUserNumber,mesh)\n",
    "decomposition.type = iron.DecompositionTypes.CALCULATED\n",
    "decomposition.numberOfDomains = numberOfComputationalNodes\n",
    "decomposition.CreateFinish()"
   ]
  },
  {
   "cell_type": "code",
   "execution_count": 11,
   "metadata": {},
   "outputs": [],
   "source": [
    "# Now that the mesh has been decomposed we are in a position to create fields. The first field we need to \n",
    "# create is the geometry field. Here we create a field and set the field’s mesh decomposition to the \n",
    "# decomposed mesh that we have just created. We can choose exact how each component of the field is \n",
    "# interpolated by setting component mesh component to be the mesh components that we created for the mesh. \n",
    "# For this example we only have one mesh component. Once we have finished creating the field we can change \n",
    "# the field DOFs to give us our geometry. Since this mesh has been generated we can use the generated mesh \n",
    "# object to calculate the geometric parameters of the regular mesh.\n",
    "\n",
    "# Create a field for the geometry\n",
    "geometricField = iron.Field()\n",
    "geometricField.CreateStart(geometricFieldUserNumber,region)\n",
    "geometricField.meshDecomposition = decomposition\n",
    "geometricField.ComponentMeshComponentSet(iron.FieldVariableTypes.U,1,1)\n",
    "geometricField.ComponentMeshComponentSet(iron.FieldVariableTypes.U,2,1)\n",
    "geometricField.ComponentMeshComponentSet(iron.FieldVariableTypes.U,3,1)\n",
    "geometricField.CreateFinish()"
   ]
  },
  {
   "cell_type": "code",
   "execution_count": 12,
   "metadata": {},
   "outputs": [],
   "source": [
    "# Set geometry from the generated mesh\n",
    "generatedMesh.GeometricParametersCalculate(geometricField)"
   ]
  },
  {
   "cell_type": "code",
   "execution_count": 13,
   "metadata": {},
   "outputs": [],
   "source": [
    "# We are now in a position to define the type of physics that we wish to solve. This is done by creating an \n",
    "# equations set which is a contianer object for all the parameters we need to describe the physics. \n",
    "# Here we create a standard Laplace equations set.\n",
    "\n",
    "# {\\displaystyle \\nabla ^{2}f={\\frac {\\partial ^{2}f}{\\partial x^{2}}}+{\\frac {\\partial ^{2}f}{\\partial y^{2}}}+{\\frac {\\partial ^{2}f}{\\partial z^{2}}}=0.}\n",
    "\n",
    "# Create standard Laplace equations set\n",
    "equationsSetField = iron.Field()\n",
    "equationsSet = iron.EquationsSet()\n",
    "equationsSetSpecification = [iron.EquationsSetClasses.CLASSICAL_FIELD,\n",
    "        iron.EquationsSetTypes.LAPLACE_EQUATION,\n",
    "        iron.EquationsSetSubtypes.STANDARD_LAPLACE]\n",
    "equationsSet.CreateStart(equationsSetUserNumber,region,geometricField,\n",
    "        equationsSetSpecification,equationsSetFieldUserNumber,equationsSetField)\n",
    "equationsSet.CreateFinish()"
   ]
  },
  {
   "cell_type": "code",
   "execution_count": 14,
   "metadata": {},
   "outputs": [],
   "source": [
    "# For the Laplace equation we need a dependent field (our solution).\n",
    "# Here we do not define a field before the create starts and so we let OpenCMISS create an appropriate \n",
    "# dependent field for the Laplace equations being described. Once the fields have been created we can\n",
    "# set the field DOF values. \n",
    "\n",
    "# Create dependent field\n",
    "dependentField = iron.Field()\n",
    "equationsSet.DependentCreateStart(dependentFieldUserNumber,dependentField)\n",
    "dependentField.DOFOrderTypeSet(iron.FieldVariableTypes.U,iron.FieldDOFOrderTypes.SEPARATED)\n",
    "dependentField.DOFOrderTypeSet(iron.FieldVariableTypes.DELUDELN,iron.FieldDOFOrderTypes.SEPARATED)\n",
    "equationsSet.DependentCreateFinish()\n",
    "\n",
    "# Initialise dependent field\n",
    "dependentField.ComponentValuesInitialiseDP(iron.FieldVariableTypes.U,iron.FieldParameterSetTypes.VALUES,1,0.5)\n"
   ]
  },
  {
   "cell_type": "code",
   "execution_count": 15,
   "metadata": {},
   "outputs": [],
   "source": [
    "# Create equations \n",
    "equations = iron.Equations()\n",
    "equationsSet.EquationsCreateStart(equations)\n",
    "equations.sparsityType = iron.EquationsSparsityTypes.SPARSE\n",
    "equations.outputType = iron.EquationsOutputTypes.NONE\n",
    "equationsSet.EquationsCreateFinish()\n"
   ]
  },
  {
   "cell_type": "code",
   "execution_count": 16,
   "metadata": {},
   "outputs": [],
   "source": [
    "# Now we are ready to set up a problem to be solved by OpenCMISS\n",
    "# Create Laplace problem\n",
    "\n",
    "problem = iron.Problem()\n",
    "problemSpecification = [iron.ProblemClasses.CLASSICAL_FIELD,\n",
    "        iron.ProblemTypes.LAPLACE_EQUATION,\n",
    "        iron.ProblemSubtypes.STANDARD_LAPLACE]\n",
    "problem.CreateStart(problemUserNumber, problemSpecification)\n",
    "problem.CreateFinish()"
   ]
  },
  {
   "cell_type": "code",
   "execution_count": 17,
   "metadata": {},
   "outputs": [],
   "source": [
    "# OpenCMISS control loop is a \"supervisor\" for the computational process.\n",
    "# Create control loops\n",
    "problem.ControlLoopCreateStart()\n",
    "problem.ControlLoopCreateFinish()"
   ]
  },
  {
   "cell_type": "code",
   "execution_count": 18,
   "metadata": {},
   "outputs": [],
   "source": [
    "# Now we are ready to setup a solver for the problem. We need to specify solver type (iterative) and tolerances \n",
    "# in order for the computational loop to maintain control over the solution\n",
    "\n",
    "# Create problem solver\n",
    "solver = iron.Solver()\n",
    "problem.SolversCreateStart()\n",
    "problem.SolverGet([iron.ControlLoopIdentifiers.NODE],1,solver)\n",
    "solver.outputType = iron.SolverOutputTypes.SOLVER\n",
    "solver.linearType = iron.LinearSolverTypes.ITERATIVE\n",
    "solver.linearIterativeAbsoluteTolerance = 1.0E-12\n",
    "solver.linearIterativeRelativeTolerance = 1.0E-12\n",
    "problem.SolversCreateFinish()\n"
   ]
  },
  {
   "cell_type": "code",
   "execution_count": 19,
   "metadata": {},
   "outputs": [],
   "source": [
    "# Create solver equations and add equations set to solver equations\n",
    "solver = iron.Solver()\n",
    "solverEquations = iron.SolverEquations()\n",
    "problem.SolverEquationsCreateStart()\n",
    "problem.SolverGet([iron.ControlLoopIdentifiers.NODE],1,solver)\n",
    "solver.SolverEquationsGet(solverEquations)\n",
    "solverEquations.sparsityType = iron.SolverEquationsSparsityTypes.SPARSE\n",
    "equationsSetIndex = solverEquations.EquationsSetAdd(equationsSet)\n",
    "problem.SolverEquationsCreateFinish()"
   ]
  },
  {
   "cell_type": "code",
   "execution_count": 20,
   "metadata": {},
   "outputs": [],
   "source": [
    "# The Dirichlet problem for Laplace's equation consists of finding a solution φ on some domain D such that φ on \n",
    "# the boundary of D is equal to some given function. Since the Laplace operator appears in the heat equation, \n",
    "# one physical interpretation of this problem is as follows: fix the temperature on the boundary of the domain \n",
    "# according to the given specification of the boundary condition. Allow heat to flow until a stationary state is \n",
    "# reached in which the temperature at each point on the domain doesn't change anymore. \n",
    "# The temperature distribution in the interior will then be given by the solution to the corresponding \n",
    "# Dirichlet problem.\n",
    "\n",
    "# Create boundary conditions and set first and last nodes to 0.0 and 1.0\n",
    "boundaryConditions = iron.BoundaryConditions()\n",
    "solverEquations.BoundaryConditionsCreateStart(boundaryConditions)\n",
    "firstNodeNumber=1\n",
    "nodes = iron.Nodes()\n",
    "region.NodesGet(nodes)\n",
    "lastNodeNumber = nodes.numberOfNodes\n",
    "firstNodeDomain = decomposition.NodeDomainGet(firstNodeNumber,1)\n",
    "lastNodeDomain = decomposition.NodeDomainGet(lastNodeNumber,1)\n",
    "if firstNodeDomain == computationalNodeNumber:\n",
    "    boundaryConditions.SetNode(dependentField,iron.FieldVariableTypes.U,1,1,firstNodeNumber,1,iron.BoundaryConditionsTypes.FIXED,0.0)\n",
    "if lastNodeDomain == computationalNodeNumber:\n",
    "    boundaryConditions.SetNode(dependentField,iron.FieldVariableTypes.U,1,1,lastNodeNumber,1,iron.BoundaryConditionsTypes.FIXED,1.0)\n",
    "solverEquations.BoundaryConditionsCreateFinish()"
   ]
  },
  {
   "cell_type": "code",
   "execution_count": 21,
   "metadata": {},
   "outputs": [],
   "source": [
    "# Solve the problem\n",
    "problem.Solve()"
   ]
  },
  {
   "cell_type": "code",
   "execution_count": 22,
   "metadata": {},
   "outputs": [],
   "source": [
    "# Now we want to have the results of the run be stored for analysis and later use\n",
    "\n",
    "# Export results\n",
    "baseName = \"laplace\"\n",
    "dataFormat = \"PLAIN_TEXT\"\n",
    "fml = iron.FieldMLIO()\n",
    "fml.OutputCreate(mesh, \"\", baseName, dataFormat)\n",
    "fml.OutputAddFieldNoType(baseName+\".geometric\", dataFormat, geometricField,\n",
    "    iron.FieldVariableTypes.U, iron.FieldParameterSetTypes.VALUES)\n",
    "fml.OutputAddFieldNoType(baseName+\".phi\", dataFormat, dependentField,\n",
    "    iron.FieldVariableTypes.U, iron.FieldParameterSetTypes.VALUES)\n",
    "fml.OutputWrite(\"LaplaceExample.xml\")\n",
    "fml.Finalise()"
   ]
  },
  {
   "cell_type": "code",
   "execution_count": 23,
   "metadata": {},
   "outputs": [],
   "source": [
    "# Let the library know that you are done with computations and the resources allocated for the problem\n",
    "# can now be released\n",
    "iron.Finalise()"
   ]
  },
  {
   "cell_type": "code",
   "execution_count": 23,
   "metadata": {},
   "outputs": [],
   "source": []
  }
 ],
 "metadata": {
  "kernelspec": {
   "display_name": "Python 3",
   "language": "python",
   "name": "python3"
  },
  "language_info": {
   "codemirror_mode": {
    "name": "ipython",
    "version": 3
   },
   "file_extension": ".py",
   "mimetype": "text/x-python",
   "name": "python",
   "nbconvert_exporter": "python",
   "pygments_lexer": "ipython3",
   "version": "3.5.2"
  }
 },
 "nbformat": 4,
 "nbformat_minor": 2
}