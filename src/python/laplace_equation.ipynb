{
 "cells": [
  {
   "cell_type": "markdown",
   "metadata": {},
   "source": [
    "# Setting up an OpenCMISS-Iron problem from scratch - jupyter notebook\n",
    "\n",
    "## Introduction\n",
    "\n",
    "This tutorial demonstrates how to setup and solve a problem using OpenCMISS-Iron from scratch in python. For the purpose of this tutorial, we will be solving a Laplace problem. In mathematics and physics, Laplace's equation is a second-order partial differential equation named after Pierre-Simon Laplace who first studied its properties.\n",
    "\n",
    "The code excerpts in this section can be run interactively by entering it directly into the Python interpreter, which can be started by running python or ipython in a terminal. The code shown here can also be downloaded as a jupyter notebook in the following [link](https://github.com/OpenCMISS-Examples/basics_tutorial/blob/master/src/python/laplace_equation.ipynb).\n",
    "\n",
    "## Loading OpenCMISS-Iron library\n",
    "In order to use OpenCMISS we have to first import the opencmiss.iron module from the opencmiss package. This initialises library with default values \\[and seeds random generator with a new value - move this to a parallel tutorial - too much detail for now\\]."
   ]
  },
  {
   "cell_type": "code",
   "execution_count": 1,
   "metadata": {},
   "outputs": [],
   "source": [
    "# Intialise OpenCMISS-Iron.\n",
    "from opencmiss.iron import iron"
   ]
  },
  {
   "cell_type": "markdown",
   "metadata": {
    "pycharm": {
     "name": "#%% md\n"
    }
   },
   "source": [
    "Assuming OpenCMISS has been correctly built with the Python bindings by\n",
    "following the instructions in the programmer documentation, we can now access\n",
    "all the OpenCMISS functions, classes and constants under the iron namespace.\n",
    "\n",
    "The next section describes how we can interact with the OpenCMISS-Iron library\n",
    "through an object-oriented API."
   ]
  },
  {
   "cell_type": "markdown",
   "source": [
    "## OpenCMISS-Iron objects\n",
    "\n",
    "### Creating objects\n",
    "\n",
    "Every OpenCMISS-Iron object can be created using the following steps that are illustrated for creating a coordinate system object:\n",
    "\n",
    "\n",
    "1. Create an instance of the class of interest from the iron module, ie `instance = iron.Class_name()`.\n",
    "\n",
    "    `coordinate_system = iron.CoordinateSystem()`\n",
    "\n",
    "\n",
    "2. Set default attributes of the object using the `CreateStart` method. This requires the user to provide an identifier that is unique for each object class. This identifier is typically termed a user number.\n",
    "\n",
    "    `coordinate_system_user_number = 1`\n",
    "\n",
    "    `coordinate_system.CreateStart(coordinate_system_user_number)`\n",
    "\n",
    "\n",
    "3. Customise the attributes of the object by calling class methods.\n",
    "\n",
    "    `coordinate_system.DimensionSet(3)`\n",
    "\n",
    "\n",
    "4. Finalise the object. An object cannot be used until it is finalised.\n",
    "\n",
    "    `coordinate_system.CreateFinish()`\n",
    "\n",
    "### Destroying objects\n",
    "\n",
    "Once finalised, the parameters of the object cannot typically be modified. In order to modify the object, either another object needs to be defined with a different user number, or the object needs to be destroyed as shown below:\n",
    "\n",
    "`coordinate_system.Destroy()`"
   ],
   "metadata": {
    "collapsed": false
   }
  },
  {
   "cell_type": "markdown",
   "source": [
    "## Setting up model geometry\n",
    "\n",
    "The first step in our example will be to set up a region and coordinate system and create a 3D mesh."
   ],
   "metadata": {
    "collapsed": false
   }
  },
  {
   "cell_type": "code",
   "execution_count": 2,
   "outputs": [],
   "source": [
    "# Create coordinate system.\n",
    "coordinate_system_user_number = 1\n",
    "coordinate_system = iron.CoordinateSystem()\n",
    "coordinate_system.CreateStart(coordinate_system_user_number)\n",
    "coordinate_system.CreateFinish()\n",
    "\n",
    "region_user_number = 1\n",
    "region = iron.Region()\n",
    "region.CreateStart(region_user_number, iron.WorldRegion)\n",
    "region.CoordinateSystemSet(coordinate_system)\n",
    "region.CreateFinish()"
   ],
   "metadata": {
    "collapsed": false,
    "pycharm": {
     "name": "#%%\n"
    }
   }
  },
  {
   "cell_type": "markdown",
   "metadata": {
    "pycharm": {
     "name": "#%% md\n"
    }
   },
   "source": [
    "We then create basis functions for the mesh. By default, OpenCMISS-Iron will define a linear Lagrange basis. As we have 3 geometric coordinates, we will have a tri-linear Lagrange basis."
   ]
  },
  {
   "cell_type": "code",
   "execution_count": 3,
   "outputs": [],
   "source": [
    "basis_user_number = 1\n",
    "basis = iron.Basis()\n",
    "basis.CreateStart(basis_user_number)\n",
    "basis.CreateFinish()"
   ],
   "metadata": {
    "collapsed": false,
    "pycharm": {
     "name": "#%%\n"
    }
   }
  },
  {
   "cell_type": "markdown",
   "metadata": {
    "pycharm": {
     "name": "#%% md\n"
    }
   },
   "source": [
    "In this example we will use the generated mesh capabilities of OpenCMISS to create a 3D geometric mesh on which to solve the Laplace problem. We will create a regular mesh of size width x height x length and divide the mesh into `number_global_x_elements` in the X direction,  `number_global_y_elements` in the Y direction and `number_global_z_elements` in the Z direction."
   ]
  },
  {
   "cell_type": "code",
   "execution_count": 4,
   "outputs": [],
   "source": [
    "#  Define mesh parameters.\n",
    "number_global_x_elements = 1\n",
    "number_global_y_elements = 3\n",
    "number_global_z_elements = 1\n",
    "height = 1.0\n",
    "width = 1.0\n",
    "length = 1.0\n",
    "\n",
    "# Create mesh using the iron.GeneratedMesh object.\n",
    "generated_mesh_user_number = 1\n",
    "generated_mesh = iron.GeneratedMesh()\n",
    "generated_mesh.CreateStart(generated_mesh_user_number, region)\n",
    "generated_mesh.TypeSet(iron.GeneratedMeshTypes.REGULAR)\n",
    "generated_mesh.BasisSet([basis])\n",
    "generated_mesh.ExtentSet([width, height, length])\n",
    "generated_mesh.NumberOfElementsSet(\n",
    "    [number_global_x_elements,\n",
    "     number_global_y_elements,\n",
    "     number_global_z_elements])"
   ],
   "metadata": {
    "collapsed": false,
    "pycharm": {
     "name": "#%%\n"
    }
   }
  },
  {
   "cell_type": "markdown",
   "source": [
    "When we finish generating the mesh we have a mesh object returned to us. This mesh object is just the same as if we had manually created the regular mesh."
   ],
   "metadata": {
    "collapsed": false,
    "pycharm": {
     "name": "#%% md\n"
    }
   }
  },
  {
   "cell_type": "code",
   "execution_count": 5,
   "metadata": {},
   "outputs": [],
   "source": [
    "mesh_user_number = 1\n",
    "mesh = iron.Mesh()\n",
    "generated_mesh.CreateFinish(mesh_user_number,mesh)\n"
   ]
  },
  {
   "cell_type": "markdown",
   "metadata": {
    "pycharm": {
     "name": "#%% md\n"
    }
   },
   "source": [
    "Once the mesh has been created we can decompose it into a number of domains in order to allow for parallelism. We choose the options to let OpenCMISS calculate the best way to break up the mesh. We also set the number of domains to be equal to the number of computational nodes this example is running on. Note that if MPI infrastructure is not used, only single domain will ve created."
   ]
  },
  {
   "cell_type": "code",
   "execution_count": 6,
   "outputs": [],
   "source": [
    "# Perform mesh decomposition.\n",
    "decomposition_user_number = 1\n",
    "decomposition = iron.Decomposition()\n",
    "decomposition.CreateStart(decomposition_user_number, mesh)\n",
    "decomposition.CreateFinish()"
   ],
   "metadata": {
    "collapsed": false,
    "pycharm": {
     "name": "#%%\n"
    }
   }
  },
  {
   "cell_type": "markdown",
   "metadata": {
    "pycharm": {
     "name": "#%% md\n"
    }
   },
   "source": [
    "Now that the mesh has been decomposed we are in a position to create fields. The first field we need to create is the geometry field. Here we create a field and set the field’s mesh decomposition to the decomposed mesh that we have just created. We can choose exact how each component of the field is interpolated by setting component mesh component to be the mesh components that we created for the mesh. For this example we only have one mesh component. Once we have finished creating the field we can change the field DOFs to give us our geometry. Since this mesh has been generated we can use the generated mesh object to calculate the geometric parameters of the regular mesh."
   ]
  },
  {
   "cell_type": "code",
   "execution_count": 7,
   "outputs": [],
   "source": [
    "# Create a field for the geometry.\n",
    "geometric_field_user_number = 1\n",
    "geometric_field = iron.Field()\n",
    "geometric_field.CreateStart(geometric_field_user_number, region)\n",
    "geometric_field.MeshDecompositionSet(decomposition)\n",
    "geometric_field.CreateFinish()"
   ],
   "metadata": {
    "collapsed": false,
    "pycharm": {
     "name": "#%%\n"
    }
   }
  },
  {
   "cell_type": "code",
   "execution_count": 8,
   "metadata": {},
   "outputs": [],
   "source": [
    "# Set geometric field values from the generated mesh.\n",
    "generated_mesh.GeometricParametersCalculate(geometric_field)"
   ]
  },
  {
   "cell_type": "markdown",
   "metadata": {
    "pycharm": {
     "name": "#%% md\n"
    }
   },
   "source": [
    "We are now in a position to define the type of physics that we wish to solve. This is done by creating an equations set which is a contianer object for all the parameters we need to describe the physics. Here we create a standard Laplace equations set.\n",
    "\n",
    "$$\\displaystyle \\nabla ^{2}f={\\frac {\\partial ^{2}f}{\\partial x^{2}}}+{\\frac {\\partial ^{2}f}{\\partial y^{2}}}+{\\frac {\\partial ^{2}f}{\\partial z^{2}}}=0.$$"
   ]
  },
  {
   "cell_type": "code",
   "execution_count": 9,
   "outputs": [],
   "source": [
    "# Create standard Laplace equations set.\n",
    "equations_set_user_number = 1\n",
    "equations_set_field_user_number = 2\n",
    "equations_set_field = iron.Field()\n",
    "equations_set = iron.EquationsSet()\n",
    "equations_set_specification = [\n",
    "    iron.EquationsSetClasses.CLASSICAL_FIELD,\n",
    "    iron.EquationsSetTypes.LAPLACE_EQUATION,\n",
    "    iron.EquationsSetSubtypes.STANDARD_LAPLACE]\n",
    "equations_set.CreateStart(\n",
    "    equations_set_user_number, region, geometric_field,\n",
    "    equations_set_specification, equations_set_field_user_number,\n",
    "    equations_set_field)\n",
    "equations_set.CreateFinish()"
   ],
   "metadata": {
    "collapsed": false,
    "pycharm": {
     "name": "#%%\n"
    }
   }
  },
  {
   "cell_type": "markdown",
   "metadata": {
    "pycharm": {
     "name": "#%% md\n"
    }
   },
   "source": [
    "For the Laplace equation we need a dependent field (our solution). Here we do not define a field before the create starts and so we let OpenCMISS create an appropriate dependent field for the Laplace equations being described. Once the fields have been created we can set the field DOF values."
   ]
  },
  {
   "cell_type": "code",
   "execution_count": 10,
   "outputs": [],
   "source": [
    "# Create dependent field.\n",
    "dependent_field_user_number = 3\n",
    "dependent_field = iron.Field()\n",
    "equations_set.DependentCreateStart(\n",
    "    dependent_field_user_number, dependent_field)\n",
    "equations_set.DependentCreateFinish()\n",
    "\n",
    "# Initialise dependent field.\n",
    "dependent_field.ComponentValuesInitialiseDP(\n",
    "    iron.FieldVariableTypes.U, iron.FieldParameterSetTypes.VALUES, 1, 0.5)"
   ],
   "metadata": {
    "collapsed": false,
    "pycharm": {
     "name": "#%%\n"
    }
   }
  },
  {
   "cell_type": "code",
   "execution_count": 11,
   "metadata": {},
   "outputs": [],
   "source": [
    "# Create equations.\n",
    "equations = iron.Equations()\n",
    "equations_set.EquationsCreateStart(equations)\n",
    "equations_set.EquationsCreateFinish()"
   ]
  },
  {
   "cell_type": "markdown",
   "metadata": {
    "pycharm": {
     "name": "#%% md\n"
    }
   },
   "source": [
    "Now we are ready to set up a problem to be solved by OpenCMISS."
   ]
  },
  {
   "cell_type": "code",
   "execution_count": 12,
   "outputs": [],
   "source": [
    "# Create problem.\n",
    "problem_user_number = 1\n",
    "problem = iron.Problem()\n",
    "problem_specification = [\n",
    "    iron.ProblemClasses.CLASSICAL_FIELD,\n",
    "    iron.ProblemTypes.LAPLACE_EQUATION,\n",
    "    iron.ProblemSubtypes.STANDARD_LAPLACE]\n",
    "problem.CreateStart(problem_user_number, problem_specification)\n",
    "problem.CreateFinish()"
   ],
   "metadata": {
    "collapsed": false,
    "pycharm": {
     "name": "#%%\n"
    }
   }
  },
  {
   "cell_type": "markdown",
   "metadata": {
    "pycharm": {
     "name": "#%% md\n"
    }
   },
   "source": [
    "OpenCMISS control loop is a \"supervisor\" for the computational process."
   ]
  },
  {
   "cell_type": "code",
   "execution_count": 13,
   "outputs": [],
   "source": [
    "# Create control loops.\n",
    "problem.ControlLoopCreateStart()\n",
    "problem.ControlLoopCreateFinish()"
   ],
   "metadata": {
    "collapsed": false,
    "pycharm": {
     "name": "#%%\n"
    }
   }
  },
  {
   "cell_type": "markdown",
   "metadata": {
    "pycharm": {
     "name": "#%% md\n"
    }
   },
   "source": [
    "We are now ready to setup a solver for the problem. An iterative solver is used by default."
   ]
  },
  {
   "cell_type": "code",
   "execution_count": 14,
   "outputs": [],
   "source": [
    "# Create problem solver\n",
    "solver = iron.Solver()\n",
    "problem.SolversCreateStart()\n",
    "problem.SolverGet([iron.ControlLoopIdentifiers.NODE], 1, solver)\n",
    "solver.OutputTypeSet(iron.SolverOutputTypes.SOLVER)\n",
    "problem.SolversCreateFinish()\n",
    "\n",
    "# Create solver equations and add equations set to solver equations.\n",
    "solver = iron.Solver()\n",
    "solver_equations = iron.SolverEquations()\n",
    "problem.SolverEquationsCreateStart()\n",
    "problem.SolverGet([iron.ControlLoopIdentifiers.NODE], 1, solver)\n",
    "solver.SolverEquationsGet(solver_equations)\n",
    "solver_equations.EquationsSetAdd(equations_set)\n",
    "problem.SolverEquationsCreateFinish()"
   ],
   "metadata": {
    "collapsed": false,
    "pycharm": {
     "name": "#%%\n"
    }
   }
  },
  {
   "cell_type": "markdown",
   "metadata": {
    "pycharm": {
     "name": "#%% md\n"
    }
   },
   "source": [
    "The Dirichlet problem for Laplace's equation consists of finding a solution φ on some domain D such that φ on the boundary of D is equal to some given function. Since the Laplace operator appears in the heat equation, one physical interpretation of this problem is as follows: fix the temperature on the boundary of the domain according to the given specification of the boundary condition. Allow heat to flow until a stationary state is reached in which the temperature at each point on the domain doesn't change anymore. The temperature distribution in the interior will then be given by the solution to the corresponding Dirichlet problem."
   ]
  },
  {
   "cell_type": "code",
   "execution_count": 15,
   "outputs": [],
   "source": [
    "# Identify first and last node number.\n",
    "firstNodeNumber = 1\n",
    "nodes = iron.Nodes()\n",
    "region.NodesGet(nodes)\n",
    "lastNodeNumber = nodes.NumberOfNodesGet()\n",
    "\n",
    "# Create boundary conditions and set first and last nodes to 0.0 and 1.0\n",
    "boundary_conditions = iron.BoundaryConditions()\n",
    "solver_equations.BoundaryConditionsCreateStart(boundary_conditions)\n",
    "boundary_conditions.SetNode(\n",
    "    dependent_field, iron.FieldVariableTypes.U, 1, 1, firstNodeNumber,\n",
    "    1, iron.BoundaryConditionsTypes.FIXED, 0.0)\n",
    "boundary_conditions.SetNode(\n",
    "    dependent_field, iron.FieldVariableTypes.U, 1, 1, lastNodeNumber,\n",
    "    1, iron.BoundaryConditionsTypes.FIXED, 1.0)\n",
    "solver_equations.BoundaryConditionsCreateFinish()\n",
    "\n",
    "# Solve the problem.\n",
    "problem.Solve()"
   ],
   "metadata": {
    "collapsed": false,
    "pycharm": {
     "name": "#%%\n"
    }
   }
  },
  {
   "cell_type": "markdown",
   "metadata": {
    "pycharm": {
     "name": "#%% md\n"
    }
   },
   "source": [
    "Now we want to have the results of the run be stored for analysis and later use"
   ]
  },
  {
   "cell_type": "code",
   "execution_count": 16,
   "outputs": [],
   "source": [
    "# Export results in FieldML format.\n",
    "base_name = \"laplace_equation\"\n",
    "data_format = \"PLAIN_TEXT\"\n",
    "\n",
    "fml = iron.FieldMLIO()\n",
    "fml.OutputCreate(mesh, \"\", base_name, data_format)\n",
    "fml.OutputAddFieldNoType(\n",
    "    base_name + \".geometric\", data_format, geometric_field,\n",
    "    iron.FieldVariableTypes.U, iron.FieldParameterSetTypes.VALUES)\n",
    "fml.OutputAddFieldNoType(\n",
    "    base_name + \".phi\", data_format, dependent_field,\n",
    "    iron.FieldVariableTypes.U, iron.FieldParameterSetTypes.VALUES)\n",
    "fml.OutputWrite(\"laplace_equation.xml\")\n",
    "fml.Finalise()\n",
    "\n",
    "# Export results in Exfile format.\n",
    "fields = iron.Fields()\n",
    "fields.CreateRegion(region)\n",
    "fields.NodesExport(\"laplace_equation\", \"FORTRAN\")\n",
    "fields.ElementsExport(\"laplace_equation\", \"FORTRAN\")\n",
    "fields.Finalise()"
   ],
   "metadata": {
    "collapsed": false,
    "pycharm": {
     "name": "#%%\n"
    }
   }
  },
  {
   "cell_type": "markdown",
   "metadata": {
    "pycharm": {
     "name": "#%% md\n"
    }
   },
   "source": [
    "Let the library know that you are done with computations and the resources allocated for the problem can now be released\n"
   ]
  },
  {
   "cell_type": "code",
   "execution_count": 17,
   "outputs": [],
   "source": [
    "iron.Finalise()"
   ],
   "metadata": {
    "collapsed": false,
    "pycharm": {
     "name": "#%%\n"
    }
   }
  }
 ],
 "metadata": {
  "kernelspec": {
   "display_name": "Python 3",
   "language": "python",
   "name": "python3"
  },
  "language_info": {
   "codemirror_mode": {
    "name": "ipython",
    "version": 3
   },
   "file_extension": ".py",
   "mimetype": "text/x-python",
   "name": "python",
   "nbconvert_exporter": "python",
   "pygments_lexer": "ipython3",
   "version": "3.5.2"
  }
 },
 "nbformat": 4,
 "nbformat_minor": 2
}