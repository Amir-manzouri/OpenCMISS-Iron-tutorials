{
 "cells": [
  {
   "cell_type": "markdown",
   "metadata": {},
   "source": [
    "# Setting up a basic Iron problem\n",
    "\n",
    "## Introduction\n",
    "\n",
    "This tutorial demonstrates how to setup and solve a problem using OpenCMISS-Iron in python. For the purpose of this tutorial, we will be solving a 2D Laplace problem. In mathematics and physics, Laplace's equation is a second-order partial differential equation named after Pierre-Simon Laplace who first studied its properties.\n",
    "\n",
    "Provided that you have already installed the OpenCMISS library, the code excerpts in this section can be run interactively by entering it directly into the Python interpreter, which can be started by running python or ipython in a terminal. The code shown here can also be downloaded as a jupyter notebook in the following [link](https://github.com/OpenCMISS-Examples/basics_tutorial/blob/master/src/python/laplace_equation.ipynb).\n",
    "\n",
    "## Loading the OpenCMISS-Iron library\n",
    "In order to use OpenCMISS we have to first import the opencmiss.iron module from the opencmiss package."
   ]
  },
  {
   "cell_type": "code",
   "execution_count": 1,
   "metadata": {},
   "outputs": [],
   "source": [
    "# Intialise OpenCMISS-Iron.\n",
    "from opencmiss.iron import iron"
   ]
  },
  {
   "cell_type": "markdown",
   "metadata": {
    "pycharm": {
     "name": "#%% md\n"
    }
   },
   "source": [
    "Assuming OpenCMISS has been correctly built with the Python bindings by\n",
    "following the instructions in the programmer documentation, we can now access\n",
    "all the OpenCMISS functions, classes and constants under the iron namespace.\n",
    "\n",
    "The next section describes how we can interact with the OpenCMISS-Iron library\n",
    "through an object-oriented API.\n",
    "\n",
    "\n",
    "## Creating a coordinate system\n",
    "\n",
    "First we construct a coordinate system that will be used to describe the geometry in our problem. The 2D geometry will exist in a 2D space, so we need a 2D coordinate system."
   ]
  },
  {
   "cell_type": "code",
   "execution_count": 2,
   "metadata": {},
   "outputs": [],
   "source": [
    "# Create coordinate system.\n",
    "coordinate_system_user_number = 1\n",
    "coordinate_system = iron.CoordinateSystem()\n",
    "coordinate_system.CreateStart(coordinate_system_user_number)\n",
    "coordinate_system.DimensionSet(2)\n",
    "coordinate_system.CreateFinish()"
   ]
  },
  {
   "cell_type": "markdown",
   "metadata": {},
   "source": [
    "## Creating a region\n",
    "\n",
    "Next we create a region that our fields will be defined on and tell it to use the 2D coordinate system we created previously. The CreateStart method for a region requires another region as a parameter. We use the world region that is created by default so that our region is a subregion of the world region."
   ]
  },
  {
   "cell_type": "code",
   "execution_count": 3,
   "metadata": {
    "pycharm": {
     "name": "#%%\n"
    }
   },
   "outputs": [],
   "source": [
    "# Create region\n",
    "region_user_number = 1\n",
    "region = iron.Region()\n",
    "region.CreateStart(region_user_number, iron.WorldRegion)\n",
    "region.CoordinateSystemSet(coordinate_system)\n",
    "region.LabelSet(\"Region\")\n",
    "region.CreateFinish()"
   ]
  },
  {
   "cell_type": "markdown",
   "metadata": {
    "pycharm": {
     "name": "#%% md\n"
    }
   },
   "source": [
    "## Creating basis functions\n",
    "\n",
    "The finite element description of our fields requires a basis function to interpolate field values over elements, so we create a 2D basis with linear Lagrange interpolation in both $\\xi$ directions. Note that in coding practice, the greek symbol $\\xi$ is represented as \"Xi\" (\"Xi\" is not read as \"X sub i\")."
   ]
  },
  {
   "cell_type": "code",
   "execution_count": 4,
   "metadata": {
    "pycharm": {
     "name": "#%%\n"
    }
   },
   "outputs": [],
   "source": [
    "basis_user_number = 1\n",
    "basis = iron.Basis()\n",
    "basis.CreateStart(basis_user_number)\n",
    "basis.TypeSet(iron.BasisTypes.LAGRANGE_HERMITE_TP)\n",
    "basis.NumberOfXiSet(2)\n",
    "basis.InterpolationXiSet([iron.BasisInterpolationSpecifications.LINEAR_LAGRANGE,iron.BasisInterpolationSpecifications.LINEAR_LAGRANGE]) #the two items in the list assign a basis interpolation scheme to each spatial direction.\n",
    "basis.QuadratureNumberOfGaussXiSet([3,3]) #this sets the number of gauss points in each finite element coordinate direction (xi) for numerical integration operations\n",
    "basis.CreateFinish()"
   ]
  },
  {
   "cell_type": "markdown",
   "metadata": {
    "pycharm": {
     "name": "#%% md\n"
    }
   },
   "source": [
    "## Setting up a simple cuboid mesh\n",
    "\n",
    "In this example we will use the GeneratedMesh class capabilities of OpenCMISS to create a 2D geometric mesh on which to solve the Laplace problem. We will create a regular mesh of size width x height and divide the mesh into `number_global_x_elements` in the X direction, and  `number_global_y_elements` in the Y direction. We will then tell it to use the basis we created previously:"
   ]
  },
  {
   "cell_type": "code",
   "execution_count": 5,
   "metadata": {
    "pycharm": {
     "name": "#%%\n"
    }
   },
   "outputs": [],
   "source": [
    "#  Define mesh parameters.\n",
    "number_global_x_elements = 1\n",
    "number_global_y_elements = 3\n",
    "height = 1.0\n",
    "width = 1.0\n",
    "\n",
    "# Create mesh using the iron.GeneratedMesh object.\n",
    "generated_mesh_user_number = 1\n",
    "generated_mesh = iron.GeneratedMesh()\n",
    "generated_mesh.CreateStart(generated_mesh_user_number, region) # notice how the mesh initialisation is associated with region. \n",
    "generated_mesh.TypeSet(iron.GeneratedMeshTypes.REGULAR)\n",
    "generated_mesh.BasisSet([basis]) #note the use of a list type to pass in the basis as an argument in the BasisSet method. We will see the power of this in a later exercise.\n",
    "generated_mesh.ExtentSet([width, height])\n",
    "generated_mesh.NumberOfElementsSet(\n",
    "    [number_global_x_elements,\n",
    "     number_global_y_elements])"
   ]
  },
  {
   "cell_type": "markdown",
   "metadata": {
    "pycharm": {
     "name": "#%% md\n"
    }
   },
   "source": [
    "The generated mesh is not itself a mesh, but is used to create a mesh. We construct the mesh object when we call the CreateFinish method of the generated mesh and pass in the mesh. This mesh object is just the same as if we had manually created the regular mesh. \n",
    "\n",
    "Here we have initialised a mesh but not called CreateStart or CreateFinish, instead the mesh creation is done when finishing the creation of the generated mesh."
   ]
  },
  {
   "cell_type": "code",
   "execution_count": 6,
   "metadata": {},
   "outputs": [],
   "source": [
    "mesh_user_number = 1\n",
    "mesh = iron.Mesh()\n",
    "generated_mesh.CreateFinish(mesh_user_number,mesh) #the GeneratedMesh object contains attributes that are then used to define the mesh object attributes at this line.\n"
   ]
  },
  {
   "cell_type": "markdown",
   "metadata": {
    "pycharm": {
     "name": "#%% md\n"
    }
   },
   "source": [
    "## Decomposing the mesh\n",
    "Once the mesh has been created we can decompose it into a number of domains in order to allow for parallelism. We choose the options to let OpenCMISS calculate the best way to break up the mesh. We also set the number of domains to be equal to the number of computational nodes this example is running on. Note that if MPI infrastructure is not used, only single domain will be created. Look for our parallelisation example for an illustration of how to execute simulations using parallel processing techniques. "
   ]
  },
  {
   "cell_type": "code",
   "execution_count": 7,
   "metadata": {
    "pycharm": {
     "name": "#%%\n"
    }
   },
   "outputs": [],
   "source": [
    "# Perform mesh decomposition.\n",
    "decomposition_user_number = 1\n",
    "decomposition = iron.Decomposition()\n",
    "decomposition.CreateStart(decomposition_user_number, mesh)\n",
    "decomposition.CreateFinish()"
   ]
  },
  {
   "cell_type": "markdown",
   "metadata": {
    "pycharm": {
     "name": "#%% md\n"
    }
   },
   "source": [
    "## Creating a geometric field\n",
    "Now that the mesh has been decomposed we are in a position to create fields. The first field we need to create is the geometric field. Here we create a field and partition the field to different computational nodes using the mesh decomposition that we have just created. Once we have finished creating the field we can change the field DOFs to give us our geometry. Since the mesh has been generated we can use the generated mesh object to calculate the geometric parameters of the regular mesh."
   ]
  },
  {
   "cell_type": "code",
   "execution_count": 8,
   "metadata": {
    "pycharm": {
     "name": "#%%\n"
    }
   },
   "outputs": [],
   "source": [
    "# Create a field for the geometry.\n",
    "geometric_field_user_number = 1\n",
    "geometric_field = iron.Field()\n",
    "geometric_field.CreateStart(geometric_field_user_number, region) #notice that the geometric field is associated with region in this function call. \n",
    "geometric_field.LabelSet('Geometry')\n",
    "geometric_field.MeshDecompositionSet(decomposition)\n",
    "geometric_field.CreateFinish()"
   ]
  },
  {
   "cell_type": "markdown",
   "metadata": {},
   "source": [
    "We have created a geometric field but all the field component values are currently set to zero by default. We can define the geometry using the generated mesh we created earlier:"
   ]
  },
  {
   "cell_type": "code",
   "execution_count": 9,
   "metadata": {},
   "outputs": [],
   "source": [
    "# Set geometric field values from the generated mesh.\n",
    "generated_mesh.GeometricParametersCalculate(geometric_field)"
   ]
  },
  {
   "cell_type": "markdown",
   "metadata": {
    "pycharm": {
     "name": "#%% md\n"
    }
   },
   "source": [
    "## Defining the Laplace problem\n",
    "We are now in a position to define the type of physics that we wish to solve. This is done by creating an equations set which is a container object for all the parameters we need to describe the physics. The specific equation set we are solving is defined by a list in the fourth argument to the CreateStart method. This list needs to contain the equations set class, type and subtype. In this example we are solving the standard Laplace equation which is a member of the classical field equations set class and the Laplace equation type. When we create an equations set we also have to create an equations set field, however, this is only used to identify multiple equations sets of the same type on a region so we will not use it in this example. Here we create a standard Laplace equations set.\n",
    "\n",
    "$$\\displaystyle \\nabla ^{2}f={\\frac {\\partial ^{2}f}{\\partial x^{2}}}+{\\frac {\\partial ^{2}f}{\\partial y^{2}}}=0.$$"
   ]
  },
  {
   "cell_type": "code",
   "execution_count": 10,
   "metadata": {
    "pycharm": {
     "name": "#%%\n"
    }
   },
   "outputs": [],
   "source": [
    "# Create standard Laplace equations set.\n",
    "equations_set_user_number = 1\n",
    "equations_set_field_user_number = 2\n",
    "equations_set_field = iron.Field()\n",
    "equations_set = iron.EquationsSet()\n",
    "equations_set_specification = [\n",
    "    iron.EquationsSetClasses.CLASSICAL_FIELD,\n",
    "    iron.EquationsSetTypes.LAPLACE_EQUATION,\n",
    "    iron.EquationsSetSubtypes.STANDARD_LAPLACE]\n",
    "equations_set.CreateStart(\n",
    "    equations_set_user_number, region, geometric_field,\n",
    "    equations_set_specification, equations_set_field_user_number,\n",
    "    equations_set_field)\n",
    "equations_set.CreateFinish()"
   ]
  },
  {
   "cell_type": "markdown",
   "metadata": {
    "pycharm": {
     "name": "#%% md\n"
    }
   },
   "source": [
    "## Defining the dependent field $f(x,y)$\n",
    "For the Laplace equation we need a dependent field (our solution). Here haven't used the Field.CreateStart method to construct the dependent field because we let OpenCMISS create an appropriate dependent field for the Laplace equations being described. \n",
    "\n",
    "it is automatically constructed by the equations set.\n",
    "\n",
    "Here we do not define a field before the CreateStart and so we let OpenCMISS create an appropriate dependent field for the Laplace equations being described. Once the fields have been created we can set the field DOF values."
   ]
  },
  {
   "cell_type": "code",
   "execution_count": 11,
   "metadata": {
    "pycharm": {
     "name": "#%%\n"
    }
   },
   "outputs": [],
   "source": [
    "# Create dependent field.\n",
    "dependent_field_user_number = 3\n",
    "dependent_field = iron.Field()\n",
    "equations_set.DependentCreateStart(\n",
    "    dependent_field_user_number, dependent_field)\n",
    "equations_set.DependentCreateFinish()"
   ]
  },
  {
   "cell_type": "markdown",
   "metadata": {},
   "source": [
    "We can initialise our solution with a value we think will be close to the final solution. A field in OpenCMISS can contain multiple field variables, and each field variable can have multiple components. For the standard Laplace equation, the dependent field only has a U variable which has one component. Field variables can also have different field parameter sets, for example we can store values at a previous time step in dynamic problems. In this example we are only interested in the VALUES parameter set:"
   ]
  },
  {
   "cell_type": "code",
   "execution_count": 12,
   "metadata": {},
   "outputs": [],
   "source": [
    "# Initialise dependent field.\n",
    "dependent_field.ComponentValuesInitialiseDP(\n",
    "    iron.FieldVariableTypes.U, iron.FieldParameterSetTypes.VALUES, 1, 0.5)"
   ]
  },
  {
   "cell_type": "markdown",
   "metadata": {
    "collapsed": false,
    "pycharm": {
     "name": "#%% md\n"
    }
   },
   "source": [
    "Once the equations set is defined, we create the equations that use our fields to construct equations matrices and vectors."
   ]
  },
  {
   "cell_type": "code",
   "execution_count": 13,
   "metadata": {
    "pycharm": {
     "name": "#%%\n"
    }
   },
   "outputs": [],
   "source": [
    "# Create equations.\n",
    "equations = iron.Equations()\n",
    "equations_set.EquationsCreateStart(equations)\n",
    "equations_set.EquationsCreateFinish()"
   ]
  },
  {
   "cell_type": "markdown",
   "metadata": {
    "pycharm": {
     "name": "#%% md\n"
    }
   },
   "source": [
    "## Defining the problem field\n",
    "\n",
    "Now that we have defined all the equations we will need we can create our problem to be solved by OpenCMISS. We create a standard Laplace problem, which is a member of the classical field problem class and Laplace equation problem type: "
   ]
  },
  {
   "cell_type": "code",
   "execution_count": 14,
   "metadata": {
    "pycharm": {
     "name": "#%%\n"
    }
   },
   "outputs": [],
   "source": [
    "# Create problem.\n",
    "problem_user_number = 1\n",
    "problem = iron.Problem()\n",
    "problem_specification = [\n",
    "    iron.ProblemClasses.CLASSICAL_FIELD,\n",
    "    iron.ProblemTypes.LAPLACE_EQUATION,\n",
    "    iron.ProblemSubtypes.STANDARD_LAPLACE]\n",
    "problem.CreateStart(problem_user_number, problem_specification)\n",
    "problem.CreateFinish()"
   ]
  },
  {
   "cell_type": "markdown",
   "metadata": {
    "pycharm": {
     "name": "#%% md\n"
    }
   },
   "source": [
    "## Defining control loops\n",
    "\n",
    "The problem type defines a control loop structure that is used when solving the problem. The OpenCMISS control loop is a \"supervisor\" for the computational process. We may have multiple control loops with nested sub loops, and control loops can have different types, for example load incremented loops or time loops for dynamic problems. In this example a simple, single iteration loop is created without any sub loops. If we wanted to access the control loop and modify it we would use the problem.ControlLoopGet method before finishing the creation of the control loops, but we will just leave it with the default configuration:"
   ]
  },
  {
   "cell_type": "code",
   "execution_count": 15,
   "metadata": {
    "pycharm": {
     "name": "#%%\n"
    }
   },
   "outputs": [],
   "source": [
    "# Create control loops.\n",
    "problem.ControlLoopCreateStart()\n",
    "problem.ControlLoopCreateFinish()"
   ]
  },
  {
   "cell_type": "markdown",
   "metadata": {
    "pycharm": {
     "name": "#%% md\n"
    }
   },
   "source": [
    "## Defining solvers\n",
    "\n",
    "After defining the problem structure we can create the solvers that will be run to actually solve our problem. The problem type defines the solvers to be set up so we call problem.SolversCreateStart() to create the solvers and then we can access the solvers to modify their properties. An iterative solver is used by default."
   ]
  },
  {
   "cell_type": "code",
   "execution_count": 16,
   "metadata": {
    "pycharm": {
     "name": "#%%\n"
    }
   },
   "outputs": [],
   "source": [
    "# Create problem solver\n",
    "solver = iron.Solver()\n",
    "problem.SolversCreateStart()\n",
    "problem.SolverGet([iron.ControlLoopIdentifiers.NODE], 1, solver)\n",
    "solver.OutputTypeSet(iron.SolverOutputTypes.SOLVER)\n",
    "problem.SolversCreateFinish()\n",
    "\n"
   ]
  },
  {
   "cell_type": "markdown",
   "metadata": {
    "collapsed": false,
    "pycharm": {
     "name": "#%% md\n"
    }
   },
   "source": [
    "Note that we initialised a solver but didn't create it directly by calling its CreateStart() method, it was created with the call to SolversCreateStart() and then we obtain it with the call to SolverGet(). If we look at the help for the SolverGet method we see it takes three parameters:\n",
    "\n",
    "controlLoopIdentifiers: A list of integers used to identify the control loop to get a solver for. This always starts with the root control loop, given by CMISS.ControlLoopIdentifiers.NODE. In this example we only have the one control loop and no sub loops.\n",
    "\n",
    "solverIndex: The index of the solver to get, as a control loop may have multiple solvers. In this case there is only one solver in our root control loop.\n",
    "\n",
    "solver: An initialised solver object that hasn't been created yet, and on return it will be the solver that we asked for.\n",
    "\n",
    "Once we've obtained the solver we then set various properties before finishing the creation of all the problem solvers. A list of solver methods to configure the solver can be found [here](http://opencmiss.org/documentation/apidoc/iron/latest/python/classiron_1_1_solver.html)\n",
    "\n",
    "After defining our solver we can create the equations for the solver to solve by adding our equations sets to the solver equations. In this example we have just one equations set to add but for coupled problems we may have multiple equations sets in the solver equations. "
   ]
  },
  {
   "cell_type": "code",
   "execution_count": 17,
   "metadata": {
    "collapsed": false,
    "pycharm": {
     "name": "#%%\n"
    }
   },
   "outputs": [],
   "source": [
    "# Create solver equations and add equations set to solver equations.\n",
    "solver = iron.Solver()\n",
    "solver_equations = iron.SolverEquations()\n",
    "problem.SolverEquationsCreateStart()\n",
    "problem.SolverGet([iron.ControlLoopIdentifiers.NODE], 1, solver)\n",
    "solver.SolverEquationsGet(solver_equations)\n",
    "solver_equations.EquationsSetAdd(equations_set)\n",
    "problem.SolverEquationsCreateFinish()"
   ]
  },
  {
   "cell_type": "markdown",
   "source": [
    "## Defining the boundary conditions\n",
    "\n",
    "The final step in configuring the problem is to define the boundary conditions to be satisfied. The Dirichlet problem for Laplace's equation consists of finding a solution φ on some domain D such that φ on the boundary of D is equal to some given function. Since the Laplace operator appears in the heat equation, one physical interpretation of this problem is as follows: fix the temperature on the boundary of the domain according to the given specification of the boundary condition. Allow heat to flow until a stationary state is reached in which the temperature at each point on the domain doesn't change anymore. The temperature distribution in the interior will then be given by the solution to the corresponding Dirichlet problem.\n",
    "\n",
    "We will set the dependent field value at the first node to be 0, and at the last node to be 1.0. These nodes will correspond to opposite corners in our geometry.\n",
    "\n",
    "These values are set using the SetNode() method. The arguments to the SetNode() method are the field, field variable type, node version number, node user number, node derivative number, field component number, boundary condition type and boundary condition value. The version and derivative numbers are one as we aren't using versions and we are setting field values rather than derivative values. We can also only set derivative boundary conditions when using a Hermite basis type. There are a wide number of boundary condition types that can be set but many are only available for certain equation set types and in this example we simply want to fix the field value.\n",
    "\n",
    "When solverEquations.BoundaryConditionsCreateFinish() is called OpenCMISS will construct the solver matrices and vectors."
   ],
   "metadata": {
    "collapsed": false
   }
  },
  {
   "cell_type": "code",
   "execution_count": 18,
   "outputs": [],
   "source": [
    "# Identify first and last node number.\n",
    "firstNodeNumber = 1\n",
    "nodes = iron.Nodes()\n",
    "region.NodesGet(nodes)\n",
    "lastNodeNumber = nodes.NumberOfNodesGet()\n",
    "\n",
    "# Create boundary conditions and set first and last nodes to 0.0 and 1.0\n",
    "boundary_conditions = iron.BoundaryConditions()\n",
    "solver_equations.BoundaryConditionsCreateStart(boundary_conditions)\n",
    "boundary_conditions.SetNode(\n",
    "    dependent_field, iron.FieldVariableTypes.U, 1, 1, firstNodeNumber,\n",
    "    1, iron.BoundaryConditionsTypes.FIXED, 0.0)\n",
    "boundary_conditions.SetNode(\n",
    "    dependent_field, iron.FieldVariableTypes.U, 1, 1, lastNodeNumber,\n",
    "    1, iron.BoundaryConditionsTypes.FIXED, 1.0)\n",
    "solver_equations.BoundaryConditionsCreateFinish()"
   ],
   "metadata": {
    "collapsed": false,
    "pycharm": {
     "name": "#%%\n"
    }
   }
  },
  {
   "cell_type": "markdown",
   "source": [
    "## Solving the problem\n",
    "After our problem solver equations have been fully defined we are now ready to solve our problem. When we call the Solve method of the problem it will loop over the control loops and control loop solvers to solve our problem:"
   ],
   "metadata": {
    "collapsed": false
   }
  },
  {
   "cell_type": "code",
   "metadata": {
    "pycharm": {
     "name": "#%%\n"
    }
   },
   "source": [
    "# Solve the problem.\n",
    "problem.Solve()"
   ],
   "execution_count": 19,
   "outputs": []
  },
  {
   "cell_type": "markdown",
   "source": [
    "## Exporting solutions\n",
    "Now we want to have the results of the run be stored for analysis and later use"
   ],
   "metadata": {
    "collapsed": false
   }
  },
  {
   "cell_type": "code",
   "execution_count": 20,
   "outputs": [],
   "source": [
    "# Export results in Exfile format.\n",
    "fields = iron.Fields()\n",
    "fields.CreateRegion(region)\n",
    "fields.NodesExport(\"laplace_equation\", \"FORTRAN\")\n",
    "fields.ElementsExport(\"laplace_equation\", \"FORTRAN\")\n",
    "fields.Finalise()"
   ],
   "metadata": {
    "collapsed": false,
    "pycharm": {
     "name": "#%%\n"
    }
   }
  },
  {
   "cell_type": "markdown",
   "source": [
    "Let the library know that you are done with computations and the resources allocated for the problem can now be released\n"
   ],
   "metadata": {
    "collapsed": false
   }
  },
  {
   "cell_type": "code",
   "execution_count": 21,
   "outputs": [],
   "source": [
    "iron.Finalise()"
   ],
   "metadata": {
    "collapsed": false,
    "pycharm": {
     "name": "#%%\n"
    }
   }
  },
  {
   "cell_type": "markdown",
   "source": [
    "## Visualising results\n",
    "\n",
    "The simulation results should stored in the local directory as two files: laplace_equation.exnode and laplace_equation.exelem. The laplace_equation.exnode contains the data of the solution $f(x,y)$ associated with each node. The laplace_equation.exelem file contains the connectivity data of the mesh, and associates each element with its corresponding nodes.\n",
    "\n",
    "## Modifying the simulation from the 2D to 3D Laplace problem\n",
    "To develop the 3D Laplace problem using OpenCMISS-Iron, simple changes need to be made to above code in the iron.CoordinateSystem() class, the iron.Basis() class, and the iron.GeneratedMesh() class.\n",
    "\n",
    "The same Boundary Conditions can be defined in this example as it is based on the first and last node. In general, care must be taken in how the boundary conditions are defined for the users problem.\n",
    "\n",
    "\n",
    "In 3D, define\n",
    "* number_global_z_elements = 1\n",
    "* length = 1\n",
    "\n",
    "The code that needs to be changed going from 2D to 3D Laplace problem from above is summarized in the table below:\n",
    "\n",
    "| 2D                                                                                      | 3D                                                                                                               |\n",
    "|-----------------------------------------------------------------------------------------|------------------------------------------------------------------------------------------------------------------|\n",
    "| coordinate_system.DimensionSet(2)                                                       | coordinate_system.DimensionSet(3)                                                                                |\n",
    "| basis.NumberOfXiSet(2)                                                                  | basis.NumberOfXiSet(3)                                                                                           |\n",
    "| basis.InterpolationXiSet([iron.BasisInterpolationSpecifications.LINEAR_LAGRANGE]\\*2)    | basis.InterpolationXiSet([iron.BasisInterpolationSpecifications.LINEAR_LAGRANGE]\\*3)                             |\n",
    "| basis.quadratureNumberOfGaussXi([3,3])                                                  | basis.quadratureNumberOfGaussXi([3,3,3])                                                                         |\n",
    "| generated_mesh.ExtentSet([width, height])                                               | generated_mesh.ExtentSet([width, height, length])                                                                |\n",
    "| generated_mesh.NumberOfElementsSet([number_global_x_elements,number_global_y_elements]) | generated_mesh.NumberOfElementsSet([number_global_x_elements,number_global_y_elements,number_global_z_elements]) |"
   ],
   "metadata": {
    "collapsed": false,
    "pycharm": {
     "name": "#%% md\n"
    }
   }
  }
 ],
 "metadata": {
  "kernelspec": {
   "display_name": "Python 3",
   "language": "python",
   "name": "python3"
  },
  "language_info": {
   "codemirror_mode": {
    "name": "ipython",
    "version": 3
   },
   "file_extension": ".py",
   "mimetype": "text/x-python",
   "name": "python",
   "nbconvert_exporter": "python",
   "pygments_lexer": "ipython3",
   "version": "3.5.2"
  }
 },
 "nbformat": 4,
 "nbformat_minor": 4
}